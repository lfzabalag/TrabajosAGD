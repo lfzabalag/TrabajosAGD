{
  "nbformat": 4,
  "nbformat_minor": 0,
  "metadata": {
    "kernelspec": {
      "display_name": "Python 3",
      "language": "python",
      "name": "python3"
    },
    "language_info": {
      "codemirror_mode": {
        "name": "ipython",
        "version": 3
      },
      "file_extension": ".py",
      "mimetype": "text/x-python",
      "name": "python",
      "nbconvert_exporter": "python",
      "pygments_lexer": "ipython3",
      "version": "3.6.9"
    },
    "colab": {
      "name": "TrabajoSparkQL-checkpoint.ipynb",
      "provenance": []
    }
  },
  "cells": [
    {
      "cell_type": "markdown",
      "metadata": {
        "id": "RcnhDS9SKcRs"
      },
      "source": [
        "\n",
        "Análisis e Implementación en SparkQL\n",
        "\n",
        "    Entrega hasta el 24 de mayo en https://forms.gle/aRiWtjayausRFCTd8\n",
        "\n",
        "    Los dos conjuntos de datos entregados, CSV separados por coma, Evaluación del Pitch (2021.04.13 ISoftware).csv y Asistencia del Pitch (2021.04.13 ISoftware).csv proceden de dos encuestas realizadas con Google Forms.\n",
        "\n",
        "    Los archivos proceden de las evaluaciones de los pitch (exposiciones cortas de negocio) que realizan los estudiantes de la asignatura de Ingeniería de Software. Los estudiantes están organizados en equipos. Cada equipo realiza una presentación de máximo 15 minutos, una vez inicia la presentación todos los estudiantes deben registrar su asistencia lo cual queda registrado en 'Asistencia del Pitch (2021.04.13 ISoftware).csv' incluidos los miembros del equipo.\n",
        "\n",
        "    El archivo Asistencia del Pitch (2021.04.13 ISoftware).csv contiene las columnas: \"Marca temporal\" es tiempo dado en fecha y hora, \"Nombre de usuario\" es el correo electrónico del estudiante y es texto,\"Equipo al que perteneces:\" equipo de trabajo al que pertenece el estudiante también es texto y \"Equipo que va a exponer:\" equipo que el estudiante va a tender a su presentación.\n",
        "\n",
        "    El archivo Evaluación del Pitch (2021.04.13 ISoftware).csv contiene las columnas \"Marca temporal\" es tiempo dado en fecha y hora, \"Nombre de usuario\" es el correo electrónico del estudiante y es texto, \"Equipo que vas a evaluar:\" equipo que ha expuesto y que va a ser evaluado por cada estudiante que no sea integrante; a continuación, se tienen las siguientes columnas que corresponden a la evaluación de los respectivos ítems:\n",
        "       1.  troducción: El equipo responde adecuadamente ¿Quiénes son y por qué están aquí?\",\n",
        "       2.  \"Equipo: El equipo responde adecuadamente ¿Quiénes están detrás de la idea y cuál es su función?\",\n",
        "       3.  \"Problema: El equipo responde adecuadamente ¿Qué problema resolverá?, ¿es realmente un problema?\",\n",
        "       4.  \"Ventajas: El equipo responde adecuadamente ¿Por qué su solución es especial?, ¿qué la hace distinta de otras?\",\n",
        "       5.  \"Solución: El equipo responde adecuadamente ¿Cómo piensa resolver el problema?\",\n",
        "       6.  \"Producto: El equipo responde adecuadamente ¿Cómo funciona el producto o servicio? Muestra algunos ejemplos.\",\n",
        "       7.  \"Tracción: El equipo responde adecuadamente si cuenta con clientes que demuestran potencial.\",\n",
        "       8.  \"Mercado: El equipo responde conoce, o por lo menos intentar predecir, el tamaño del mercado que impactará.\",\n",
        "       9.  \"Competencia: El equipo responde adecuadamente ¿Cuáles son las soluciones alternativas al problema que plantea?\",\n",
        "       10. \"Modelo de negocio: El equipo responde adecuadamente ¿Cómo hará dinero? \",\n",
        "       11. \"Inversión: El equipo responde adecuadamente ¿Cuál es su presupuesto y cuánto espera ganar?\",\n",
        "       12. \"Contacto: El equipo deja los datos al cliente y muestra cómo pueden contactarle.\",\n",
        "       13. \"Exposición: ¿Qué tan coordinados estaban los expositores?\",\n",
        "       14. \"Exposición: ¿Los expositores se expresaron con claridad y se hicieron entender?\",\n",
        "       15. \"Exposición: Las diapositivas son claras y coherentes y apoyaron adecuadamente la exposición.\",\n",
        "       16. \"Suponiendo que eres inversionista, ¿Estarías dispuesto a invertir dinero en este equipo? (esta pregunta no se pondera en la nota)\",\n",
        "       17. \"Observaciones para el equipo, estas observaciones las debe considerar el equipo para mejorar la siguiente presentación.\"\n",
        "\n",
        "    Cada ítem se evalúa con la siguiente escala: 0. Ausente; 1. Deficiente; 2. Regular; 3. Aceptable; 4. Bueno; 5. Excelente\n",
        "\n",
        "    Carge los datos, cada archivo en una tabla SparkSQL y responda cada una de las consultas dadas en cada celda. Tenga en cuenta que algunas consultas pueden tener como resultado el vacío.\n",
        "\n",
        "Integrantes del equipo\n",
        "\n",
        "\n",
        "Nombre Completo – Documento de Identificación\n",
        "\n",
        "1.Daniela Muñoz Elorza - 1053837464\n",
        "\n",
        "2.Mauricio Herrera Mejía - 1152436206\n",
        "\n",
        "3.Ligia Fernanda Zabala Gamez - 1152691930\n",
        "\n",
        "4.Blanca Isabel Florez - 1023927894\n",
        "\n",
        "REPO EN GITHUB: \n",
        "\n"
      ]
    },
    {
      "cell_type": "code",
      "metadata": {
        "id": "bpU8WeTGKcRx"
      },
      "source": [
        "# Agrege acá el código para importar las librerias\n",
        "\n",
        "# La libreria para \"encontrar el sevicio\" de Spark\n",
        "import findspark\n",
        "findspark.init()\n",
        "\n",
        "# Librerias para \"gestionar el servicio\" de Spark\n",
        "from pyspark import SparkConf, SparkContext\n",
        "from pyspark.sql import SQLContext, SparkSession\n",
        "\n",
        "# Creamos una aplicación Spark en el Servicio\n",
        "# Tenga cuidado con las tildes o caracteres especiales en el nombre de la app\n",
        "AppSpark = SparkConf().setAppName(\"Evaluacion iSofware\")\n",
        "\n",
        "# definimos un espacio o contexto para la App\n",
        "ContextoSpark=SparkContext(conf=AppSpark)\n",
        "\n",
        "# inicio una sesión en el espacio de la App\n",
        "SesionSpark = SparkSession(ContextoSpark)\n",
        "\n",
        "# inicio del espacio o contexto SQL\n",
        "ContextoSql = SQLContext(sparkContext=ContextoSpark, sparkSession=SesionSpark)"
      ],
      "execution_count": null,
      "outputs": []
    },
    {
      "cell_type": "code",
      "metadata": {
        "id": "StsnKLnJKcRy"
      },
      "source": [
        "from pyspark.sql import functions as F #Para hacer uso de las funciones de agregacion\n",
        "from pyspark.sql.functions import bround #Para hacer uso de la funcion bround y asì redondear las calificaciones a numeros de una cifra decimal\n",
        "from pyspark.sql.functions import array_max #Para hacer uso de max y encontrar el valor màximo de una columna\n",
        "from pyspark.sql.functions import element_at #Para extraer un solo elemento de un dataframe"
      ],
      "execution_count": null,
      "outputs": []
    },
    {
      "cell_type": "markdown",
      "metadata": {
        "id": "8_i1D_imKcRz"
      },
      "source": [
        "# 1. Cargue los datos en la carpeta datalake y luego del /datalake al HDFS (Hadoop File System)\n",
        "# Recuerda usar ! para ejecutar el comando en el shell. \n",
        "# Tu código a continuación..."
      ]
    },
    {
      "cell_type": "code",
      "metadata": {
        "id": "zQG5HRVDKcRz"
      },
      "source": [
        "!hdfs dfs -copyFromLocal AsistenciaPitch.csv /tmp/\n",
        "!hdfs dfs -copyFromLocal EvaluacionPitch.csv /tmp/"
      ],
      "execution_count": null,
      "outputs": []
    },
    {
      "cell_type": "code",
      "metadata": {
        "id": "4HNn9xZNKcRz",
        "outputId": "a7799ba4-5722-4ffc-f4fe-64c503d15155"
      },
      "source": [
        "!hdfs dfs -ls /tmp/*csv"
      ],
      "execution_count": null,
      "outputs": [
        {
          "output_type": "stream",
          "text": [
            "-rw-r--r--   1 root supergroup      93121 2021-05-19 20:12 /tmp/AsistenciaPitch.csv\n",
            "-rw-r--r--   1 root supergroup     111944 2021-05-19 20:12 /tmp/EvaluacionPitch.csv\n"
          ],
          "name": "stdout"
        }
      ]
    },
    {
      "cell_type": "markdown",
      "metadata": {
        "id": "vaJpjCddKcR0"
      },
      "source": [
        "# 2. Cree dos tablas SparkSQL y almacene el csv en su correspondiente tabla.\n",
        "# Observación: tenga especial cuidado con los encabezados de los archivos CSV.\n",
        "# Usted puede considerar cambiar los encabezados de los CSV originales\n",
        "# Tu código a continuación..."
      ]
    },
    {
      "cell_type": "code",
      "metadata": {
        "jupyter": {
          "source_hidden": true
        },
        "id": "jeF89YCKKcR1"
      },
      "source": [
        "AsistenciaPitch = SesionSpark.read.load('/tmp/AsistenciaPitch.csv',\n",
        "                           format=\"csv\",\n",
        "                           sep=',',\n",
        "                           inferSchema='true',\n",
        "                           header='true')"
      ],
      "execution_count": null,
      "outputs": []
    },
    {
      "cell_type": "code",
      "metadata": {
        "jupyter": {
          "source_hidden": true
        },
        "id": "DVshWKVzKcR1"
      },
      "source": [
        "EvaluacionPitch = SesionSpark.read.load('/tmp/EvaluacionPitch.csv',\n",
        "                           format=\"csv\",\n",
        "                           sep=',',\n",
        "                           inferSchema='true',\n",
        "                           header='true')"
      ],
      "execution_count": null,
      "outputs": []
    },
    {
      "cell_type": "code",
      "metadata": {
        "id": "UxRBRxaWKcR2",
        "outputId": "ec0e28a8-9c07-4586-8767-b2d10673f1b3"
      },
      "source": [
        "AsistenciaPitch.printSchema()"
      ],
      "execution_count": null,
      "outputs": [
        {
          "output_type": "stream",
          "text": [
            "root\n",
            " |-- Marca temporal: string (nullable = true)\n",
            " |-- Nombre de usuario: string (nullable = true)\n",
            " |-- Equipo al que perteneces:: string (nullable = true)\n",
            " |-- Equipo que va a exponer:: string (nullable = true)\n",
            "\n"
          ],
          "name": "stdout"
        }
      ]
    },
    {
      "cell_type": "code",
      "metadata": {
        "id": "LTSghGp7KcR2",
        "outputId": "521cf0f2-0ac3-4b8a-97ca-d4061b39d6c1"
      },
      "source": [
        "EvaluacionPitch.printSchema()"
      ],
      "execution_count": null,
      "outputs": [
        {
          "output_type": "stream",
          "text": [
            "root\n",
            " |-- Marca temporal: string (nullable = true)\n",
            " |-- Nombre de usuario: string (nullable = true)\n",
            " |-- Equipo que vas a evaluar:: string (nullable = true)\n",
            " |-- Introducción: El equipo responde adecuadamente ¿Quiénes son y por qué están aquí?: integer (nullable = true)\n",
            " |-- Equipo: El equipo responde adecuadamente ¿Quiénes están detrás de la idea y cuál es su función?: integer (nullable = true)\n",
            " |-- Problema: El equipo responde adecuadamente ¿Qué problema resolverá?, ¿es realmente un problema?: integer (nullable = true)\n",
            " |-- Ventajas: El equipo responde adecuadamente ¿Por qué su solución es especial?, ¿qué la hace distinta de otras?: integer (nullable = true)\n",
            " |-- Solución: El equipo responde adecuadamente ¿Cómo piensa resolver el problema?: integer (nullable = true)\n",
            " |-- Producto: El equipo responde adecuadamente ¿Cómo funciona el producto o servicio? Muestra algunos ejemplos.: integer (nullable = true)\n",
            " |-- Tracción: El equipo responde adecuadamente si cuenta con clientes que demuestran potencial.: integer (nullable = true)\n",
            " |-- Mercado: El equipo responde conoce, o por lo menos intentar predecir, el tamaño del mercado que impactará.: integer (nullable = true)\n",
            " |-- Competencia: El equipo responde adecuadamente ¿Cuáles son las soluciones alternativas al problema que plantea?: integer (nullable = true)\n",
            " |-- Modelo de negocio: El equipo responde adecuadamente ¿Cómo hará dinero? : integer (nullable = true)\n",
            " |-- Inversión: El equipo responde adecuadamente ¿Cuál es su presupuesto y cuánto espera ganar?: integer (nullable = true)\n",
            " |-- Contacto: El equipo deja los datos al cliente y muestra cómo pueden contactarle.: integer (nullable = true)\n",
            " |-- Exposición: ¿Qué tan coordinados estaban los expositores?: integer (nullable = true)\n",
            " |-- Exposición: ¿Los expositores se expresaron con claridad y se hicieron entender?: integer (nullable = true)\n",
            " |-- Exposición: Las diapositivas son claras y coherentes y apoyaron adecuadamente la exposición.: integer (nullable = true)\n",
            " |-- Suponiendo que eres inversionista, ¿Estarías dispuesto a invertir dinero en este equipo? (esta pregunta no se pondera en la nota): string (nullable = true)\n",
            " |-- Observaciones para el equipo, estas observaciones las debe considerar el equipo para mejorar la siguiente presentación.: string (nullable = true)\n",
            "\n"
          ],
          "name": "stdout"
        }
      ]
    },
    {
      "cell_type": "markdown",
      "metadata": {
        "id": "v_xIWIm-KcR3"
      },
      "source": [
        "# 2. Consulte el listado total de estudiantes (correos electrónicos) del \n",
        "# curso de Ingeniería de Software, ordenados alfabéticamente\n",
        "# Tu código a continuación..."
      ]
    },
    {
      "cell_type": "code",
      "metadata": {
        "jupyter": {
          "source_hidden": true
        },
        "id": "gjpgFavtKcR3",
        "outputId": "501b9777-6850-4dbd-9fdd-c18542d20140"
      },
      "source": [
        "#Se lleva a cabo un agrupamiento inicial para separar los correos diferentes en la lista de asistencia\n",
        "from pyspark.sql import functions as F\n",
        "Estudiantes = AsistenciaPitch.select(['Nombre de usuario', 'Marca temporal']).groupBy('Nombre de usuario').agg(F.count('Marca temporal')).sort('Nombre de usuario')\n",
        "#Estudiantes.count()\n",
        "Estudiantes = Estudiantes.withColumnRenamed('count(Marca temporal)', 'Marca temporal')\n",
        "Estudiantes.show()\n",
        "print('Total de estudiantes', Estudiantes.count())"
      ],
      "execution_count": null,
      "outputs": [
        {
          "output_type": "stream",
          "text": [
            "+--------------------+--------------+\n",
            "|   Nombre de usuario|Marca temporal|\n",
            "+--------------------+--------------+\n",
            "| abanolc@unal.edu.co|             7|\n",
            "|acastrillonv@unal...|             8|\n",
            "| aflemag@unal.edu.co|             8|\n",
            "|anapariciom@unal....|            10|\n",
            "|angutierrezb@unal...|             8|\n",
            "|anoriega@unal.edu.co|             8|\n",
            "|auarbelaeza@unal....|             8|\n",
            "| bocampo@unal.edu.co|             8|\n",
            "|cgiraldo@unal.edu.co|             8|\n",
            "|cjfunezg@unal.edu.co|             8|\n",
            "|cquinchiar@unal.e...|             6|\n",
            "| dadazam@unal.edu.co|             9|\n",
            "|daestradam@unal.e...|             8|\n",
            "|davgarciava@unal....|             8|\n",
            "|dballesteroso@una...|             8|\n",
            "|  dbrito@unal.edu.co|             7|\n",
            "|dcadavid@unal.edu.co|             8|\n",
            "|dcardonaal@unal.e...|             8|\n",
            "|dchavarriar@unal....|             8|\n",
            "|dgarciabl@unal.ed...|             9|\n",
            "+--------------------+--------------+\n",
            "only showing top 20 rows\n",
            "\n",
            "Total de estudiantes 83\n"
          ],
          "name": "stdout"
        }
      ]
    },
    {
      "cell_type": "markdown",
      "metadata": {
        "id": "GSIjklFnKcR3"
      },
      "source": [
        "# 3. Consulte la cantidad de asistencias registradas por estudiante; además, la fecha y hora de la primera asistencia\n",
        "# y la fecha y hora de la última asistencia\n",
        "# Tu código a continuación..."
      ]
    },
    {
      "cell_type": "code",
      "metadata": {
        "jupyter": {
          "source_hidden": true
        },
        "id": "Hl6jHEFOKcR4",
        "outputId": "f63449a8-8b20-4a0e-fc1a-928d56e55dc1"
      },
      "source": [
        "Estudiantes_Asist = AsistenciaPitch.select(['Nombre de usuario', \n",
        "                                            'Marca temporal'])\\\n",
        "                                    .groupBy('Nombre de usuario')\\\n",
        "                                    .agg(F.count('Nombre de usuario').alias('Total_asistencias'),\n",
        "                                         F.min('Marca temporal').alias('Primera_asistencia'),\n",
        "                                         F.max('Marca temporal').alias('Ultima_asistencia'))\\\n",
        "                                    .sort('Nombre de usuario')\n",
        "Estudiantes_Asist.show()\n",
        "print('Total de estudiantes: ',Estudiantes_Asist.count())"
      ],
      "execution_count": null,
      "outputs": [
        {
          "output_type": "stream",
          "text": [
            "+--------------------+-----------------+--------------------+--------------------+\n",
            "|   Nombre de usuario|Total_asistencias|  Primera_asistencia|   Ultima_asistencia|\n",
            "+--------------------+-----------------+--------------------+--------------------+\n",
            "| abanolc@unal.edu.co|                7|2021/04/08 8:12:1...|2021/04/13 9:37:5...|\n",
            "|acastrillonv@unal...|                8|2021/04/08 8:13:0...|2021/04/13 9:43:1...|\n",
            "| aflemag@unal.edu.co|                8|2021/04/08 8:11:5...|2021/04/13 9:41:5...|\n",
            "|anapariciom@unal....|               10|2021/04/08 8:11:4...|2021/04/13 9:38:5...|\n",
            "|angutierrezb@unal...|                8|2021/04/08 8:19:0...|2021/04/13 9:43:5...|\n",
            "|anoriega@unal.edu.co|                8|2021/04/08 8:15:1...|2021/04/13 9:40:2...|\n",
            "|auarbelaeza@unal....|                8|2021/04/08 8:09:5...|2021/04/13 9:41:0...|\n",
            "| bocampo@unal.edu.co|                8|2021/04/08 8:13:3...|2021/04/13 9:42:1...|\n",
            "|cgiraldo@unal.edu.co|                8|2021/04/08 8:44:2...|2021/04/13 9:56:4...|\n",
            "|cjfunezg@unal.edu.co|                8|2021/04/08 8:12:1...|2021/04/13 9:41:4...|\n",
            "|cquinchiar@unal.e...|                6|2021/04/08 8:33:3...|2021/04/13 9:49:0...|\n",
            "| dadazam@unal.edu.co|                9|2021/04/08 8:13:1...|2021/04/13 9:41:1...|\n",
            "|daestradam@unal.e...|                8|2021/04/08 8:10:3...|2021/04/13 9:44:3...|\n",
            "|davgarciava@unal....|                8|2021/04/08 8:13:4...|2021/04/13 9:42:3...|\n",
            "|dballesteroso@una...|                8|2021/04/08 8:14:2...|2021/04/13 9:49:0...|\n",
            "|  dbrito@unal.edu.co|                7|2021/04/08 8:19:0...|2021/04/13 9:41:3...|\n",
            "|dcadavid@unal.edu.co|                8|2021/04/08 8:13:0...|2021/04/13 9:40:5...|\n",
            "|dcardonaal@unal.e...|                8|2021/04/08 8:12:0...|2021/04/13 9:42:1...|\n",
            "|dchavarriar@unal....|                8|2021/04/08 8:13:0...|2021/04/13 9:43:5...|\n",
            "|dgarciabl@unal.ed...|                9|2021/04/08 10:00:...|2021/04/13 9:41:0...|\n",
            "+--------------------+-----------------+--------------------+--------------------+\n",
            "only showing top 20 rows\n",
            "\n",
            "Total de estudiantes:  83\n"
          ],
          "name": "stdout"
        }
      ]
    },
    {
      "cell_type": "code",
      "metadata": {
        "jupyter": {
          "source_hidden": true
        },
        "id": "PntryQb0KcR5"
      },
      "source": [
        "#Para verificar que las fechas si son las correspondientes a la primera y ultima asistencia se puede ejecutar el siguiente comando que filtra\\\n",
        "#todas las asistencias de un estudiante cualquiera\n",
        "#filtro = AsistenciaPitch.select(['Nombre de usuario', 'Marca temporal', 'Equipo al que perteneces:', 'Equipo que va a exponer:']).filter(AsistenciaPitch['Nombre de usuario']=='abanolc@unal.edu.co')\n",
        "#filtro.show()"
      ],
      "execution_count": null,
      "outputs": []
    },
    {
      "cell_type": "markdown",
      "metadata": {
        "id": "T4zMPk6dKcR5"
      },
      "source": [
        "# 4. Consulte el listado de estudiantes que asistieron a 2 presentaciones o menos (una).\n",
        "# Tu código a continuación..."
      ]
    },
    {
      "cell_type": "code",
      "metadata": {
        "jupyter": {
          "source_hidden": true
        },
        "id": "VceGhGBAKcR5",
        "outputId": "d76c1e8a-6ef8-4758-e72a-f327e174fea0"
      },
      "source": [
        "Filtro_Estudiantes_Asist_2 = Estudiantes_Asist.select(['Nombre de usuario', 'Total_asistencias'])\\\n",
        "                                            .filter(Estudiantes_Asist['Total_asistencias']<=2)\n",
        "Filtro_Estudiantes_Asist_2.show()\n",
        "print('Numero de estudiantes que asistieron a 2 presentaciones o menos:', Filtro_Estudiantes_Asist_2.count())"
      ],
      "execution_count": null,
      "outputs": [
        {
          "output_type": "stream",
          "text": [
            "+--------------------+-----------------+\n",
            "|   Nombre de usuario|Total_asistencias|\n",
            "+--------------------+-----------------+\n",
            "|jdroldano@unal.ed...|                1|\n",
            "+--------------------+-----------------+\n",
            "\n",
            "Numero de estudiantes que asistieron a 2 presentaciones o menos: 1\n"
          ],
          "name": "stdout"
        }
      ]
    },
    {
      "cell_type": "markdown",
      "metadata": {
        "id": "muI4faxfKcR6"
      },
      "source": [
        "# 5. Consulte el listado de estudiantes que no asistieron a ninguna presentación.\n",
        "# Tu código a continuación..."
      ]
    },
    {
      "cell_type": "code",
      "metadata": {
        "jupyter": {
          "source_hidden": true
        },
        "id": "8QTTzKCCKcR6",
        "outputId": "edc79e70-122d-479d-c079-80b19830f162"
      },
      "source": [
        "Filtro_Estudiantes_Asist_0 = Estudiantes_Asist.select(['Nombre de usuario', 'Total_asistencias'])\\\n",
        "                                            .filter(Estudiantes_Asist['Total_asistencias']<=0)\n",
        "Filtro_Estudiantes_Asist_0.show()\n",
        "#Filtro_Estudiantes_Asist_0('Numero de estudiantes que no asistieron a ninguna presentacion:', Filtro_Estudiantes_Asist_0.count())"
      ],
      "execution_count": null,
      "outputs": [
        {
          "output_type": "stream",
          "text": [
            "+-----------------+-----------------+\n",
            "|Nombre de usuario|Total_asistencias|\n",
            "+-----------------+-----------------+\n",
            "+-----------------+-----------------+\n",
            "\n"
          ],
          "name": "stdout"
        }
      ]
    },
    {
      "cell_type": "markdown",
      "metadata": {
        "id": "MzpuRtBqKcR7"
      },
      "source": [
        "# 6. Consulte los integrantes por cada equipo al que pertenecen.\n",
        "# Tu código a continuación..."
      ]
    },
    {
      "cell_type": "code",
      "metadata": {
        "jupyter": {
          "source_hidden": true
        },
        "id": "4EUG9DzNKcR7",
        "outputId": "3641cb92-5d65-4e36-e4f1-ace534b3f45b"
      },
      "source": [
        "from pyspark.sql import functions as F\n",
        "Estudiantes_por_equipo = AsistenciaPitch.select(['Nombre de usuario', 'Equipo al que perteneces:'])\\\n",
        "                                        .groupBy(['Nombre de usuario'])\\\n",
        "                                        .agg(F.max('Equipo al que perteneces:').alias('Equipo al que perteneces:')).sort('Equipo al que perteneces:')\n",
        "Estudiantes_por_equipo = Estudiantes_por_equipo.select(Estudiantes_por_equipo['Nombre de usuario'], Estudiantes_por_equipo['Equipo al que perteneces:'][15:200].alias('Equipo al que perteneces:'))\n",
        "Estudiantes_por_equipo.show()"
      ],
      "execution_count": null,
      "outputs": [
        {
          "output_type": "stream",
          "text": [
            "+--------------------+-------------------------+\n",
            "|   Nombre de usuario|Equipo al que perteneces:|\n",
            "+--------------------+-------------------------+\n",
            "|nsalinas@unal.edu.co|     Administración de...|\n",
            "|angutierrezb@unal...|     Administración de...|\n",
            "|framirezf@unal.ed...|     Administración de...|\n",
            "|emflorezb@unal.ed...|     Administración de...|\n",
            "| jortize@unal.edu.co|     Administración de...|\n",
            "|sednarvaezna@unal...|     Administración de...|\n",
            "|samolinap@unal.ed...|     Administración de...|\n",
            "|saespinosab@unal....|     Administración de...|\n",
            "| eapenad@unal.edu.co|     Administración de...|\n",
            "|lumarinb@unal.edu.co|     Administración de...|\n",
            "|rmbuilesm@unal.ed...|     Administración de...|\n",
            "| abanolc@unal.edu.co|     Gestión de Menús ...|\n",
            "|davgarciava@unal....|     Gestión de Menús ...|\n",
            "|jjmonsalvem@unal....|     Gestión de Menús ...|\n",
            "|jcardonaso@unal.e...|     Gestión de Menús ...|\n",
            "| lrdiaza@unal.edu.co|     Gestión de Menús ...|\n",
            "|favasquezj@unal.e...|     Gestión de Menús ...|\n",
            "|hriveraa@unal.edu.co|     Gestión de Menús ...|\n",
            "|   lmazo@unal.edu.co|     Gestión de Menús ...|\n",
            "|emlopezr@unal.edu.co|     Gestión de Menús ...|\n",
            "+--------------------+-------------------------+\n",
            "only showing top 20 rows\n",
            "\n"
          ],
          "name": "stdout"
        }
      ]
    },
    {
      "cell_type": "markdown",
      "metadata": {
        "id": "qXB2Vg-NKcR8"
      },
      "source": [
        "# 7. Consulte la cantidad de asistentes por presentación, sin considerar los asistentes que pertenecen \n",
        "# al equipo que realizó la presentación.\n",
        "# Tu código a continuación..."
      ]
    },
    {
      "cell_type": "code",
      "metadata": {
        "collapsed": true,
        "jupyter": {
          "outputs_hidden": true,
          "source_hidden": true
        },
        "id": "ILu7rmmLKcR8",
        "outputId": "9be55cff-3b4b-4930-d301-734c20499db2"
      },
      "source": [
        "#Primero filtro el dataframe de tal forma que solo queden aquellas filas \n",
        "#para las que no se repite el 'Equipo que va a exponer:' es diferente a 'Equipo al que perteneces:'\n",
        "H = AsistenciaPitch.filter(AsistenciaPitch['Equipo al que perteneces:'][15:2000] != AsistenciaPitch['Equipo que va a exponer:'][9:2000])\n",
        "print('Data set filtrado', H.count())\n",
        "print('Data set sin filtrado', AsistenciaPitch.count())"
      ],
      "execution_count": null,
      "outputs": [
        {
          "output_type": "stream",
          "text": [
            "Data set filtrado 589\n",
            "Data set sin filtrado 662\n"
          ],
          "name": "stdout"
        }
      ]
    },
    {
      "cell_type": "code",
      "metadata": {
        "jupyter": {
          "source_hidden": true
        },
        "id": "kYfB5TpYKcR8",
        "outputId": "45e4b03b-5bdf-45ad-a889-6e50bfa27c3a"
      },
      "source": [
        "#from pyspark.sql import functions as F\n",
        "Asist_presentacion_ = H.select(['Equipo que va a exponer:', 'Equipo al que perteneces:', 'Nombre de usuario'])\\\n",
        "                                    .groupBy(['Equipo que va a exponer:'])\\\n",
        "                                    .agg(F.count('Nombre de usuario').alias('Numero de asistentes totales'))\n",
        "Asist_presentacion_ = Asist_presentacion_.withColumnRenamed('Equipo que va a exponer:', 'Presentacion')\n",
        "Asist_presentacion_.show()"
      ],
      "execution_count": null,
      "outputs": [
        {
          "output_type": "stream",
          "text": [
            "+--------------------+----------------------------+\n",
            "|        Presentacion|Numero de asistentes totales|\n",
            "+--------------------+----------------------------+\n",
            "|Expone: Mi Sanand...|                          72|\n",
            "|Expone: Gestión d...|                          72|\n",
            "|Expone: Servicios...|                          76|\n",
            "|Expone: Gestión d...|                          72|\n",
            "|Expone: Administr...|                          70|\n",
            "|Expone: Lo tengo ...|                          75|\n",
            "|Expone: Gestión d...|                          74|\n",
            "|Expone: Te lo cam...|                          75|\n",
            "|Expone: Deserción...|                           3|\n",
            "+--------------------+----------------------------+\n",
            "\n"
          ],
          "name": "stdout"
        }
      ]
    },
    {
      "cell_type": "markdown",
      "metadata": {
        "id": "nI5vChaqKcR9"
      },
      "source": [
        "# 8. Consutar cuáles integrantes evaluaron a su propio equipo. Estas evaluaciones no serán válidas, pues un\n",
        "# integrante no puede evaluar a su propio equipo.\n",
        "# Tu código a continuación...\n",
        "\n"
      ]
    },
    {
      "cell_type": "markdown",
      "metadata": {
        "id": "FReYnbBlKcR9"
      },
      "source": [
        "Para llevar a cabo esta consulta es necesario unir dos tablas por medio de relaciones clave valor: con el fin de completar la tabla EvaluaciopnPitch \\\n",
        "con la columna correspondiente al curso al que pertenece cada uno de los evaluadores.\n",
        "\n",
        "Una vez creada la tabla1, correspondiente a la relación entre nombre de estudiantes y Equipo al que pertenece, se procede con el Join a la tabla EvaluaciónPitch\n",
        "\n",
        "Luego de llevarse a cabo el Join es indispensable verificar que numero de registros de la tabla resultante sea el mismo de la tabla EvaluacionPitch: Esto es de esperarse ya que solo se está agregando una columna a EvaluacionPitch."
      ]
    },
    {
      "cell_type": "code",
      "metadata": {
        "collapsed": true,
        "jupyter": {
          "outputs_hidden": true,
          "source_hidden": true
        },
        "id": "FRJmvx7iKcR9",
        "outputId": "01f95ee5-3570-4c8a-e7af-75912cc76799"
      },
      "source": [
        "#Creación tabla1 clave-valor: Clave->Nombre de Usuario, Valor->Equipo al que pertenece\n",
        "from pyspark.sql import functions as F\n",
        "Estudiantes_por_equipo_ = AsistenciaPitch.select(['Nombre de usuario', 'Equipo al que perteneces:'])\\\n",
        "                                        .groupBy(['Nombre de usuario'])\\\n",
        "                                        .agg(F.max('Equipo al que perteneces:').alias('Equipo al que perteneces:')).sort('Equipo al que perteneces:')\n",
        "Estudiantes_por_equipo_ = Estudiantes_por_equipo_.select(['Nombre de usuario', 'Equipo al que perteneces:'])\n",
        "Estudiantes_por_equipo_.show()\n",
        "print('Tamaño de la tabla1: ', Estudiantes_por_equipo_.count())"
      ],
      "execution_count": null,
      "outputs": [
        {
          "output_type": "stream",
          "text": [
            "+--------------------+-------------------------+\n",
            "|   Nombre de usuario|Equipo al que perteneces:|\n",
            "+--------------------+-------------------------+\n",
            "|nsalinas@unal.edu.co|     Pertenezco a: Adm...|\n",
            "|sednarvaezna@unal...|     Pertenezco a: Adm...|\n",
            "| jortize@unal.edu.co|     Pertenezco a: Adm...|\n",
            "|angutierrezb@unal...|     Pertenezco a: Adm...|\n",
            "|framirezf@unal.ed...|     Pertenezco a: Adm...|\n",
            "|rmbuilesm@unal.ed...|     Pertenezco a: Adm...|\n",
            "|emflorezb@unal.ed...|     Pertenezco a: Adm...|\n",
            "| eapenad@unal.edu.co|     Pertenezco a: Adm...|\n",
            "|samolinap@unal.ed...|     Pertenezco a: Adm...|\n",
            "|saespinosab@unal....|     Pertenezco a: Adm...|\n",
            "|lumarinb@unal.edu.co|     Pertenezco a: Adm...|\n",
            "|favasquezj@unal.e...|     Pertenezco a: Ges...|\n",
            "|   lmazo@unal.edu.co|     Pertenezco a: Ges...|\n",
            "| lrdiaza@unal.edu.co|     Pertenezco a: Ges...|\n",
            "|hriveraa@unal.edu.co|     Pertenezco a: Ges...|\n",
            "|jjmonsalvem@unal....|     Pertenezco a: Ges...|\n",
            "| abanolc@unal.edu.co|     Pertenezco a: Ges...|\n",
            "|jcardonaso@unal.e...|     Pertenezco a: Ges...|\n",
            "|davgarciava@unal....|     Pertenezco a: Ges...|\n",
            "|emlopezr@unal.edu.co|     Pertenezco a: Ges...|\n",
            "+--------------------+-------------------------+\n",
            "only showing top 20 rows\n",
            "\n",
            "Tamaño de la tabla1:  83\n"
          ],
          "name": "stdout"
        }
      ]
    },
    {
      "cell_type": "code",
      "metadata": {
        "jupyter": {
          "source_hidden": true
        },
        "id": "OUbDcpLmKcR-"
      },
      "source": [
        "fil = Estudiantes_por_equipo_"
      ],
      "execution_count": null,
      "outputs": []
    },
    {
      "cell_type": "code",
      "metadata": {
        "jupyter": {
          "source_hidden": true
        },
        "id": "_Rd5nxgvKcR-"
      },
      "source": [
        "#Con el fin de graficar de una forma más comoda la tabla y visualizar de forma ordenada cada una de sus columnas \n",
        "#se procede a cambiar los nombres de columnas por los el orden en el que se ubica cada una en el arreglo\n",
        "EvaluacionPitch = EvaluacionPitch.withColumnRenamed('Marca temporal', 'col1')\n",
        "EvaluacionPitch = EvaluacionPitch.withColumnRenamed('Nombre de usuario', 'col2')\n",
        "EvaluacionPitch = EvaluacionPitch.withColumnRenamed('Equipo que vas a evaluar:', 'col3')\n",
        "EvaluacionPitch = EvaluacionPitch.withColumnRenamed('Introducción: El equipo responde adecuadamente ¿Quiénes son y por qué están aquí?', 'col4')\n",
        "EvaluacionPitch = EvaluacionPitch.withColumnRenamed('Equipo: El equipo responde adecuadamente ¿Quiénes están detrás de la idea y cuál es su función?', 'col5')\n",
        "EvaluacionPitch = EvaluacionPitch.withColumnRenamed('Problema: El equipo responde adecuadamente ¿Qué problema resolverá?, ¿es realmente un problema?', 'col6')\n",
        "EvaluacionPitch = EvaluacionPitch.withColumnRenamed('Ventajas: El equipo responde adecuadamente ¿Por qué su solución es especial?, ¿qué la hace distinta de otras?', 'col7')\n",
        "EvaluacionPitch = EvaluacionPitch.withColumnRenamed('Solución: El equipo responde adecuadamente ¿Cómo piensa resolver el problema?', 'col8')\n",
        "EvaluacionPitch = EvaluacionPitch.withColumnRenamed('Producto: El equipo responde adecuadamente ¿Cómo funciona el producto o servicio? Muestra algunos ejemplos.', 'col9')\n",
        "EvaluacionPitch = EvaluacionPitch.withColumnRenamed('Tracción: El equipo responde adecuadamente si cuenta con clientes que demuestran potencial.', 'col10')\n",
        "EvaluacionPitch = EvaluacionPitch.withColumnRenamed('Mercado: El equipo responde conoce, o por lo menos intentar predecir, el tamaño del mercado que impactará.', 'col11')\n",
        "EvaluacionPitch = EvaluacionPitch.withColumnRenamed('Competencia: El equipo responde adecuadamente ¿Cuáles son las soluciones alternativas al problema que plantea?', 'col12')\n",
        "EvaluacionPitch = EvaluacionPitch.withColumnRenamed('Modelo de negocio: El equipo responde adecuadamente ¿Cómo hará dinero? ', 'col13')\n",
        "EvaluacionPitch = EvaluacionPitch.withColumnRenamed('Inversión: El equipo responde adecuadamente ¿Cuál es su presupuesto y cuánto espera ganar?', 'col14')\n",
        "EvaluacionPitch = EvaluacionPitch.withColumnRenamed('Contacto: El equipo deja los datos al cliente y muestra cómo pueden contactarle.', 'col15')\n",
        "EvaluacionPitch = EvaluacionPitch.withColumnRenamed('Exposición: ¿Qué tan coordinados estaban los expositores?', 'col16')\n",
        "EvaluacionPitch = EvaluacionPitch.withColumnRenamed('Exposición: ¿Los expositores se expresaron con claridad y se hicieron entender?', 'col17')\n",
        "EvaluacionPitch = EvaluacionPitch.withColumnRenamed('Exposición: Las diapositivas son claras y coherentes y apoyaron adecuadamente la exposición.', 'col18')\n",
        "EvaluacionPitch = EvaluacionPitch.withColumnRenamed('Suponiendo que eres inversionista, ¿Estarías dispuesto a invertir dinero en este equipo? (esta pregunta no se pondera en la nota)', 'col19')\n",
        "EvaluacionPitch = EvaluacionPitch.withColumnRenamed('Observaciones para el equipo, estas observaciones las debe considerar el equipo para mejorar la siguiente presentación.', 'col20')                                                "
      ],
      "execution_count": null,
      "outputs": []
    },
    {
      "cell_type": "code",
      "metadata": {
        "collapsed": true,
        "jupyter": {
          "outputs_hidden": true,
          "source_hidden": true
        },
        "id": "YDkpmSLdKcR_",
        "outputId": "5ee55075-b62b-4c5b-ca8b-9de2a8baeb96"
      },
      "source": [
        "EvaluacionPitch.show(3)\n",
        "print('Tamaño tabla EvaluacinPitch', EvaluacionPitch.count())"
      ],
      "execution_count": null,
      "outputs": [
        {
          "output_type": "stream",
          "text": [
            "+--------------------+--------------------+-------------+----+----+----+----+----+----+-----+-----+-----+-----+-----+-----+-----+-----+-----+-------+-----+\n",
            "|                col1|                col2|         col3|col4|col5|col6|col7|col8|col9|col10|col11|col12|col13|col14|col15|col16|col17|col18|  col19|col20|\n",
            "+--------------------+--------------------+-------------+----+----+----+----+----+----+-----+-----+-----+-----+-----+-----+-----+-----+-----+-------+-----+\n",
            "|2021/04/08 8:26:3...|jmunozbo@unal.edu.co|Te lo cambio.|   5|   5|   5|   5|   5|   5|    5|    5|    5|    5|    3|    5|    5|    5|    5|Tal vez| null|\n",
            "|2021/04/08 8:26:4...|daestradam@unal.e...|Te lo cambio.|   5|   5|   5|   4|   5|   5|    4|    5|    4|    4|    4|    4|    4|    5|    5|Tal vez| null|\n",
            "|2021/04/08 8:27:2...|seagudeloo@unal.e...|Te lo cambio.|   4|   4|   4|   4|   4|   4|    4|    4|    3|    4|    3|    5|    5|    4|    5|     Sí| null|\n",
            "+--------------------+--------------------+-------------+----+----+----+----+----+----+-----+-----+-----+-----+-----+-----+-----+-----+-----+-------+-----+\n",
            "only showing top 3 rows\n",
            "\n",
            "Tamaño tabla EvaluacinPitch 617\n"
          ],
          "name": "stdout"
        }
      ]
    },
    {
      "cell_type": "code",
      "metadata": {
        "collapsed": true,
        "jupyter": {
          "outputs_hidden": true,
          "source_hidden": true
        },
        "id": "ITKKId8-KcR_",
        "outputId": "dcc1c43b-f321-49f7-ab2e-808040129d6c"
      },
      "source": [
        "#Se procede a Generar el Join entre la tabla1 y la tabla EvaluaciónPitch generanto una tabla2 con los campos Nombre de usuario, Equipo al que pertenece,\n",
        "#y equipo al que se va a evaluar\n",
        "U = EvaluacionPitch.join(fil, fil['Nombre de usuario']==EvaluacionPitch['col2'], 'inner')\\\n",
        ".select(fil['Nombre de usuario'],\n",
        "        fil['Equipo al que perteneces:'][15:2000],\n",
        "        EvaluacionPitch['col3'])\n",
        "U = U.withColumnRenamed('substring(Equipo al que perteneces:, 15, 2000)', 'Equipo al que pertenece')\n",
        "U = U.withColumnRenamed('col3', 'Equipo al que se va a evaluar')\n",
        "U.show()\n",
        "print('Tamaño de la tabla2:', U.count())"
      ],
      "execution_count": null,
      "outputs": [
        {
          "output_type": "stream",
          "text": [
            "+--------------------+-----------------------+-----------------------------+\n",
            "|   Nombre de usuario|Equipo al que pertenece|Equipo al que se va a evaluar|\n",
            "+--------------------+-----------------------+-----------------------------+\n",
            "|samolinap@unal.ed...|   Administración de...|                Te lo cambio.|\n",
            "|samolinap@unal.ed...|   Administración de...|         Servicios a domic...|\n",
            "|samolinap@unal.ed...|   Administración de...|              Mi Sanandresito|\n",
            "|samolinap@unal.ed...|   Administración de...|         Gestión de Reside...|\n",
            "|samolinap@unal.ed...|   Administración de...|         Gestión de progra...|\n",
            "|samolinap@unal.ed...|   Administración de...|         Gestión de Menús ...|\n",
            "|samolinap@unal.ed...|   Administración de...|                Te lo cambio.|\n",
            "|emflorezb@unal.ed...|   Administración de...|         Lo tengo y te lo ...|\n",
            "|emflorezb@unal.ed...|   Administración de...|         Servicios a domic...|\n",
            "|emflorezb@unal.ed...|   Administración de...|              Mi Sanandresito|\n",
            "|emflorezb@unal.ed...|   Administración de...|         Gestión de Reside...|\n",
            "|emflorezb@unal.ed...|   Administración de...|         Gestión de progra...|\n",
            "|emflorezb@unal.ed...|   Administración de...|         Gestión de Menús ...|\n",
            "|emflorezb@unal.ed...|   Administración de...|                Te lo cambio.|\n",
            "|rmbuilesm@unal.ed...|   Administración de...|         Lo tengo y te lo ...|\n",
            "|rmbuilesm@unal.ed...|   Administración de...|         Servicios a domic...|\n",
            "|rmbuilesm@unal.ed...|   Administración de...|              Mi Sanandresito|\n",
            "|rmbuilesm@unal.ed...|   Administración de...|         Gestión de Reside...|\n",
            "|rmbuilesm@unal.ed...|   Administración de...|         Gestión de progra...|\n",
            "|rmbuilesm@unal.ed...|   Administración de...|         Gestión de Menús ...|\n",
            "+--------------------+-----------------------+-----------------------------+\n",
            "only showing top 20 rows\n",
            "\n",
            "Tamaño de la tabla2: 574\n"
          ],
          "name": "stdout"
        }
      ]
    },
    {
      "cell_type": "code",
      "metadata": {
        "jupyter": {
          "source_hidden": true
        },
        "id": "cT787fw1KcSA",
        "outputId": "3aa6774f-40c8-45c7-cd87-d48d3707b1c5"
      },
      "source": [
        "#Por Ultimo, se filtra la tabla2 por aquellos registros iguales en las columnas Equipo al que pertenece y Equipo al que se va a evaluar\n",
        "U_filtrado = U.filter(U['Equipo al que pertenece']==U['Equipo al que se va a evaluar'])\n",
        "U_filtrado.show()\n",
        "print('Numero de integrantes que evaluaron a su propio equipo:',U_filtrado.count())"
      ],
      "execution_count": null,
      "outputs": [
        {
          "output_type": "stream",
          "text": [
            "+--------------------+-----------------------+-----------------------------+\n",
            "|   Nombre de usuario|Equipo al que pertenece|Equipo al que se va a evaluar|\n",
            "+--------------------+-----------------------+-----------------------------+\n",
            "|hriveraa@unal.edu.co|   Gestión de Menús ...|         Gestión de Menús ...|\n",
            "|mcarvajalsa@unal....|   Gestión de Reside...|         Gestión de Reside...|\n",
            "|  lmayar@unal.edu.co|   Gestión de progra...|         Gestión de progra...|\n",
            "|daestradam@unal.e...|   Lo tengo y te lo ...|         Lo tengo y te lo ...|\n",
            "| jruedat@unal.edu.co|   Servicios a domic...|         Servicios a domic...|\n",
            "|anapariciom@unal....|   Servicios a domic...|         Servicios a domic...|\n",
            "+--------------------+-----------------------+-----------------------------+\n",
            "\n",
            "Numero de integrantes que evaluaron a su propio equipo: 6\n"
          ],
          "name": "stdout"
        }
      ]
    },
    {
      "cell_type": "markdown",
      "metadata": {
        "id": "mjel1d5qKcSA"
      },
      "source": [
        "# 9. Consultar la nota promedio por cada ítem (1 al 15), y la nota promedio total del cada equipo. Recuerde que no\n",
        "# son válidas las evaluaciones realizadas por los miembros del mismo equipo.\n",
        "# Tu código a continuación..."
      ]
    },
    {
      "cell_type": "code",
      "metadata": {
        "jupyter": {
          "source_hidden": true
        },
        "id": "oALrObqkKcSA"
      },
      "source": [
        "#Para llevar a cabo esta consulta se puede recurrir a la tabla2 del punto anterior modificando los campos de la misma al incluir los items del 1 al 15.\n",
        "U_9 = EvaluacionPitch.join(fil, fil['Nombre de usuario']==EvaluacionPitch['col2'], 'inner')\\\n",
        ".select(fil['Equipo al que perteneces:'][15:2000],\n",
        "        EvaluacionPitch['col3'], \n",
        "        EvaluacionPitch['col4'],\n",
        "        EvaluacionPitch['col5'],\n",
        "        EvaluacionPitch['col6'],\n",
        "        EvaluacionPitch['col7'],\n",
        "        EvaluacionPitch['col8'],\n",
        "        EvaluacionPitch['col9'],\n",
        "        EvaluacionPitch['col10'],\n",
        "        EvaluacionPitch['col11'],\n",
        "        EvaluacionPitch['col12'],\n",
        "        EvaluacionPitch['col13'],\n",
        "        EvaluacionPitch['col14'],\n",
        "        EvaluacionPitch['col15'],\n",
        "        EvaluacionPitch['col16'],\n",
        "        EvaluacionPitch['col17'],\n",
        "        EvaluacionPitch['col18'])\n",
        "U_9 = U_9.withColumnRenamed('substring(Equipo al que perteneces:, 15, 2000)', 'Equipo al que pertenece')\n",
        "U_9 = U_9.withColumnRenamed('col3', 'Equipo al que se va a evaluar')\n",
        "#U_9.show()\n",
        "#print('Numero total de calificaciones:', U_9.count())"
      ],
      "execution_count": null,
      "outputs": []
    },
    {
      "cell_type": "code",
      "metadata": {
        "jupyter": {
          "source_hidden": true
        },
        "id": "2bHMFi-pKcSB"
      },
      "source": [
        "#Filtrado por elementos de la columna Equipo al que pertenece y Equipo al que se va a evaluar diferentes.\n",
        "U_9_filtrado = U_9.filter(U_9['Equipo al que pertenece']!=U_9['Equipo al que se va a evaluar'])\n",
        "#U_9_filtrado.show()\n",
        "#print('Número de registros donde el estudiante calificó a un equipo distinto al suyo: ', U_9_filtrado.count())"
      ],
      "execution_count": null,
      "outputs": []
    },
    {
      "cell_type": "code",
      "metadata": {
        "jupyter": {
          "source_hidden": true
        },
        "id": "SPzHHG_gKcSB",
        "outputId": "e917d685-5742-47a5-d9be-9948d9283e4b"
      },
      "source": [
        "#A continuación se calcula la nota promedio por cada item\n",
        "Mean_item = U_9_filtrado.select(['col4', 'col5', 'col6', 'col7', 'col8', 'col9', 'col10', 'col11', 'col12', 'col13', 'col14', 'col15', 'col16', 'col17', 'col18'])\\\n",
        "                    .groupBy().mean('col4', 'col5', 'col6', 'col7', 'col8', 'col9', 'col10', 'col11', 'col12', 'col13', 'col14', 'col15', 'col16', 'col17', 'col18')\n",
        "\n",
        "Mean_item = Mean_item.select(bround('avg(col4)', 1).alias('avg(col4)'), bround('avg(col5)', 1).alias('avg(col5)'),\n",
        "                  bround('avg(col6)', 1).alias('avg(col6)'), bround('avg(col7)', 1).alias('avg(col7)'), bround('avg(col8)', 1).alias('avg(col8)'),\n",
        "                  bround('avg(col9)', 1).alias('avg(col9)'), bround('avg(col10)', 1).alias('avg(col10)'), bround('avg(col11)', 1).alias('avg(col11)'),\n",
        "                  bround('avg(col12)', 1).alias('avg(col12)'), bround('avg(col13)', 1).alias('avg(col13)'), bround('avg(col14)', 1).alias('avg(col14)'),\n",
        "                  bround('avg(col15)', 1).alias('avg(col15)'), bround('avg(col16)', 1).alias('avg(col16)'), bround('avg(col17)', 1).alias('avg(col17)'),\n",
        "                  bround('avg(col18)', 1).alias('avg(col18)'))\n",
        "Mean_item.head()\n",
        "Mean_item.show()"
      ],
      "execution_count": null,
      "outputs": [
        {
          "output_type": "stream",
          "text": [
            "+---------+---------+---------+---------+---------+---------+----------+----------+----------+----------+----------+----------+----------+----------+----------+\n",
            "|avg(col4)|avg(col5)|avg(col6)|avg(col7)|avg(col8)|avg(col9)|avg(col10)|avg(col11)|avg(col12)|avg(col13)|avg(col14)|avg(col15)|avg(col16)|avg(col17)|avg(col18)|\n",
            "+---------+---------+---------+---------+---------+---------+----------+----------+----------+----------+----------+----------+----------+----------+----------+\n",
            "|      4.4|      4.3|      4.4|      4.2|      4.4|      4.4|       4.2|       4.3|       4.2|       4.4|       4.2|       4.5|       4.4|       4.4|       4.5|\n",
            "+---------+---------+---------+---------+---------+---------+----------+----------+----------+----------+----------+----------+----------+----------+----------+\n",
            "\n"
          ],
          "name": "stdout"
        }
      ]
    },
    {
      "cell_type": "code",
      "metadata": {
        "jupyter": {
          "source_hidden": true
        },
        "id": "SfCsk9GkKcSB",
        "outputId": "b0a8ba7a-ee66-477f-e04f-d932fb87c68e"
      },
      "source": [
        "#A continuaciòn se calcula la nota promedio total de cada equipo\n",
        "\n",
        "#Para esto primero se agrupa por los equipos que se van a evaluar y se saca el promedio de calificacion por cada item evaluado\n",
        "Nota_equipo = U_9_filtrado.select(['Equipo al que se va a evaluar', 'col4', 'col5', 'col6', 'col7', 'col8', 'col9', 'col10', \n",
        "                                   'col11', 'col12', 'col13', 'col14', 'col15', 'col16', 'col17', 'col18'])\\\n",
        "                          .groupBy('Equipo al que se va a evaluar')\\\n",
        "                          .agg(F.avg('col4'), F.avg('col5'), F.avg('col6'), F.avg('col7'), F.avg('col8'), F.avg('col9'), F.avg('col10'), F.avg('col11'),\n",
        "                               F.avg('col12'), F.avg('col13'), F.avg('col14'), F.avg('col15'), F.avg('col16'), F.avg('col17'), F.avg('col18'))         \n",
        "                               \n",
        "Nota_equipo = Nota_equipo.select('Equipo al que se va a evaluar', bround('avg(col4)', 1).alias('avg(col4)'), bround('avg(col5)', 1).alias('avg(col5)'),\n",
        "                  bround('avg(col6)', 1).alias('avg(col6)'), bround('avg(col7)', 1).alias('avg(col7)'), bround('avg(col8)', 1).alias('avg(col8)'),\n",
        "                  bround('avg(col9)', 1).alias('avg(col9)'), bround('avg(col10)', 1).alias('avg(col10)'), bround('avg(col11)', 1).alias('avg(col11)'),\n",
        "                  bround('avg(col12)', 1).alias('avg(col12)'), bround('avg(col13)', 1).alias('avg(col13)'), bround('avg(col14)', 1).alias('avg(col14)'),\n",
        "                  bround('avg(col15)', 1).alias('avg(col15)'), bround('avg(col16)', 1).alias('avg(col16)'), bround('avg(col17)', 1).alias('avg(col17)'),\n",
        "                  bround('avg(col18)', 1).alias('avg(col18)'))\n",
        "#Nota_equipo.show()\n",
        "\n",
        "#Luego se calcula el promedio de todos los items evaluados\n",
        "Nota_equipo_resul = Nota_equipo.withColumn('Nota_promedio_total', (Nota_equipo['avg(col4)'] + Nota_equipo['avg(col5)'] + Nota_equipo['avg(col6)'] + \n",
        "                                                      Nota_equipo['avg(col7)'] + Nota_equipo['avg(col8)'] + Nota_equipo['avg(col9)'] +\n",
        "                                                      Nota_equipo['avg(col10)'] + Nota_equipo['avg(col11)'] + Nota_equipo['avg(col12)'] +\n",
        "                                                      Nota_equipo['avg(col13)'] + Nota_equipo['avg(col14)'] + Nota_equipo['avg(col15)'] +\n",
        "                                                      Nota_equipo['avg(col16)'] + Nota_equipo['avg(col17)'] + Nota_equipo['avg(col18)'])/15)\n",
        "\n",
        "Nota_equipo_resul = Nota_equipo_resul.select(['Equipo al que se va a evaluar', 'Nota_promedio_total'])\n",
        "Nota_equipo_resul = Nota_equipo_resul.select('Equipo al que se va a evaluar', bround('Nota_promedio_total', 1).alias('Nota_promedio_total')).sort('Nota_promedio_total', ascending=False)\n",
        "Nota_equipo_resul.show()\n",
        "\n",
        "print('Cantidad de equipos evaluados: ', Nota_equipo_resul.count())"
      ],
      "execution_count": null,
      "outputs": [
        {
          "output_type": "stream",
          "text": [
            "+-----------------------------+-------------------+\n",
            "|Equipo al que se va a evaluar|Nota_promedio_total|\n",
            "+-----------------------------+-------------------+\n",
            "|         Deserción de estu...|                4.8|\n",
            "|         Gestión de Reside...|                4.5|\n",
            "|         Lo tengo y te lo ...|                4.5|\n",
            "|         Gestión de Menús ...|                4.4|\n",
            "|         Servicios a domic...|                4.4|\n",
            "|         Gestión de progra...|                4.4|\n",
            "|                Te lo cambio.|                4.3|\n",
            "|         Administración de...|                4.2|\n",
            "|              Mi Sanandresito|                4.2|\n",
            "+-----------------------------+-------------------+\n",
            "\n",
            "Cantidad de equipos evaluados:  9\n"
          ],
          "name": "stdout"
        }
      ]
    },
    {
      "cell_type": "markdown",
      "metadata": {
        "id": "fFb5XhPNKcSC"
      },
      "source": [
        "# 10. Consulte el mejor equipo evaluado por cada ítem (según nota promedio. En caso de empate mostrar todos los empatados) \n",
        "# y el mejor equipo según el promedio total.\n",
        "# Tu código a continuación..."
      ]
    },
    {
      "cell_type": "code",
      "metadata": {
        "jupyter": {
          "source_hidden": true
        },
        "id": "qzxTX0D7KcSC"
      },
      "source": [
        "Nota_equipo_resul_10 = Nota_equipo.agg(F.max('avg(col4)').alias('avg(col4)'), F.max('avg(col5)').alias('avg(col5)'), F.max('avg(col6)').alias('avg(col6)'), F.max('avg(col7)').alias('avg(col7)'), F.max('avg(col8)').alias('avg(col8)'),\n",
        "                                       F.max('avg(col9)').alias('avg(col9)'), F.max('avg(col10)').alias('avg(col10)'), F.max('avg(col11)').alias('avg(col11)'), F.max('avg(col12)').alias('avg(col12)'), F.max('avg(col13)').alias('avg(col13)'),\n",
        "                                       F.max('avg(col14)').alias('avg(col14)'), F.max('avg(col15)').alias('avg(col15)'), F.max('avg(col16)').alias('avg(col16)'), F.max('avg(col17)').alias('avg(col17)'), F.max('avg(col18)').alias('avg(col18)'))\n",
        "#Nota_equipo_resul_10.show()\n",
        "Nota_equipo_resul_10 = Nota_equipo_resul_10.toPandas()\n",
        "#Nota_equipo_resul_10"
      ],
      "execution_count": null,
      "outputs": []
    },
    {
      "cell_type": "code",
      "metadata": {
        "jupyter": {
          "source_hidden": true
        },
        "id": "9sHqvYUpKcSC"
      },
      "source": [
        "W = Nota_equipo_resul.select(Nota_equipo_resul['Equipo al que se va a evaluar'])\n",
        "#W.show()"
      ],
      "execution_count": null,
      "outputs": []
    },
    {
      "cell_type": "code",
      "metadata": {
        "jupyter": {
          "source_hidden": true
        },
        "id": "ff5iC6ZbKcSC"
      },
      "source": [
        "#col4\n",
        "Nota_equipo_resul_col4 = Nota_equipo.select(['Equipo al que se va a evaluar', 'avg(col4)']).sort('avg(col4)', ascending=False)\n",
        "Nota_equipo_resul_col4 = Nota_equipo_resul_col4.filter(Nota_equipo_resul_col4['avg(col4)'] == Nota_equipo_resul_10.at[0, 'avg(col4)'])\n",
        "Nota_equipo_resul_col4 = W.join(Nota_equipo_resul_col4, W['Equipo al que se va a evaluar']==Nota_equipo_resul_col4['Equipo al que se va a evaluar'], 'full')\\\n",
        "                          .select(W['Equipo al que se va a evaluar'],\n",
        "                                  Nota_equipo_resul_col4['avg(col4)'])\n",
        "#col5\n",
        "Nota_equipo_resul_col5 = Nota_equipo.select(['Equipo al que se va a evaluar', 'avg(col5)']).sort('avg(col5)', ascending=False)\n",
        "Nota_equipo_resul_col5 = Nota_equipo_resul_col5.filter(Nota_equipo_resul_col5['avg(col5)'] == Nota_equipo_resul_10.at[0, 'avg(col5)'])\n",
        "Nota_equipo_resul_col5 = W.join(Nota_equipo_resul_col5, W['Equipo al que se va a evaluar']==Nota_equipo_resul_col5['Equipo al que se va a evaluar'], 'full')\\\n",
        "                          .select(W['Equipo al que se va a evaluar'],\n",
        "                                  Nota_equipo_resul_col5['avg(col5)'])\n",
        "#col6\n",
        "Nota_equipo_resul_col6 = Nota_equipo.select(['Equipo al que se va a evaluar', 'avg(col6)']).sort('avg(col6)', ascending=False)\n",
        "Nota_equipo_resul_col6 = Nota_equipo_resul_col6.filter(Nota_equipo_resul_col6['avg(col6)'] == Nota_equipo_resul_10.at[0, 'avg(col6)'])\n",
        "Nota_equipo_resul_col6 = W.join(Nota_equipo_resul_col6, W['Equipo al que se va a evaluar']==Nota_equipo_resul_col6['Equipo al que se va a evaluar'], 'full')\\\n",
        "                          .select(W['Equipo al que se va a evaluar'],\n",
        "                                  Nota_equipo_resul_col6['avg(col6)'])\n",
        "#col7\n",
        "Nota_equipo_resul_col7 = Nota_equipo.select(['Equipo al que se va a evaluar', 'avg(col7)']).sort('avg(col7)', ascending=False)\n",
        "Nota_equipo_resul_col7 = Nota_equipo_resul_col7.filter(Nota_equipo_resul_col7['avg(col7)'] == Nota_equipo_resul_10.at[0, 'avg(col7)'])\n",
        "Nota_equipo_resul_col7 = W.join(Nota_equipo_resul_col7, W['Equipo al que se va a evaluar']==Nota_equipo_resul_col7['Equipo al que se va a evaluar'], 'full')\\\n",
        "                          .select(W['Equipo al que se va a evaluar'],\n",
        "                                  Nota_equipo_resul_col7['avg(col7)'])\n",
        "#col8\n",
        "Nota_equipo_resul_col8 = Nota_equipo.select(['Equipo al que se va a evaluar', 'avg(col8)']).sort('avg(col8)', ascending=False)\n",
        "Nota_equipo_resul_col8 = Nota_equipo_resul_col8.filter(Nota_equipo_resul_col8['avg(col8)'] == Nota_equipo_resul_10.at[0, 'avg(col8)'])\n",
        "Nota_equipo_resul_col8 = W.join(Nota_equipo_resul_col8, W['Equipo al que se va a evaluar']==Nota_equipo_resul_col8['Equipo al que se va a evaluar'], 'full')\\\n",
        "                          .select(W['Equipo al que se va a evaluar'],\n",
        "                                  Nota_equipo_resul_col8['avg(col8)'])\n",
        "#col9\n",
        "Nota_equipo_resul_col9 = Nota_equipo.select(['Equipo al que se va a evaluar', 'avg(col9)']).sort('avg(col9)', ascending=False)\n",
        "Nota_equipo_resul_col9 = Nota_equipo_resul_col9.filter(Nota_equipo_resul_col9['avg(col9)'] == Nota_equipo_resul_10.at[0, 'avg(col9)'])\n",
        "Nota_equipo_resul_col9 = W.join(Nota_equipo_resul_col9, W['Equipo al que se va a evaluar']==Nota_equipo_resul_col9['Equipo al que se va a evaluar'], 'full')\\\n",
        "                          .select(W['Equipo al que se va a evaluar'],\n",
        "                                  Nota_equipo_resul_col9['avg(col9)'])\n",
        "#col10\n",
        "Nota_equipo_resul_col10 = Nota_equipo.select(['Equipo al que se va a evaluar', 'avg(col10)']).sort('avg(col10)', ascending=False)\n",
        "Nota_equipo_resul_col10 = Nota_equipo_resul_col10.filter(Nota_equipo_resul_col10['avg(col10)'] == Nota_equipo_resul_10.at[0, 'avg(col10)'])\n",
        "Nota_equipo_resul_col10 = W.join(Nota_equipo_resul_col10, W['Equipo al que se va a evaluar']==Nota_equipo_resul_col10['Equipo al que se va a evaluar'], 'full')\\\n",
        "                          .select(W['Equipo al que se va a evaluar'],\n",
        "                                  Nota_equipo_resul_col10['avg(col10)'])\n",
        "#col11\n",
        "Nota_equipo_resul_col11 = Nota_equipo.select(['Equipo al que se va a evaluar', 'avg(col11)']).sort('avg(col11)', ascending=False)\n",
        "Nota_equipo_resul_col11 = Nota_equipo_resul_col11.filter(Nota_equipo_resul_col11['avg(col11)'] == Nota_equipo_resul_10.at[0, 'avg(col11)'])\n",
        "Nota_equipo_resul_col11 = W.join(Nota_equipo_resul_col11, W['Equipo al que se va a evaluar']==Nota_equipo_resul_col11['Equipo al que se va a evaluar'], 'full')\\\n",
        "                          .select(W['Equipo al que se va a evaluar'],\n",
        "                                  Nota_equipo_resul_col11['avg(col11)'])\n",
        "#col12\n",
        "Nota_equipo_resul_col12 = Nota_equipo.select(['Equipo al que se va a evaluar', 'avg(col12)']).sort('avg(col12)', ascending=False)\n",
        "Nota_equipo_resul_col12 = Nota_equipo_resul_col12.filter(Nota_equipo_resul_col12['avg(col12)'] == Nota_equipo_resul_10.at[0, 'avg(col12)'])\n",
        "Nota_equipo_resul_col12 = W.join(Nota_equipo_resul_col12, W['Equipo al que se va a evaluar']==Nota_equipo_resul_col12['Equipo al que se va a evaluar'], 'full')\\\n",
        "                          .select(W['Equipo al que se va a evaluar'],\n",
        "                                  Nota_equipo_resul_col12['avg(col12)'])\n",
        "#col13\n",
        "Nota_equipo_resul_col13 = Nota_equipo.select(['Equipo al que se va a evaluar', 'avg(col13)']).sort('avg(col13)', ascending=False)\n",
        "Nota_equipo_resul_col13 = Nota_equipo_resul_col13.filter(Nota_equipo_resul_col13['avg(col13)'] == Nota_equipo_resul_10.at[0, 'avg(col13)'])\n",
        "Nota_equipo_resul_col13 = W.join(Nota_equipo_resul_col13, W['Equipo al que se va a evaluar']==Nota_equipo_resul_col13['Equipo al que se va a evaluar'], 'full')\\\n",
        "                          .select(W['Equipo al que se va a evaluar'],\n",
        "                                  Nota_equipo_resul_col13['avg(col13)'])\n",
        "#col14\n",
        "Nota_equipo_resul_col14 = Nota_equipo.select(['Equipo al que se va a evaluar', 'avg(col14)']).sort('avg(col14)', ascending=False)\n",
        "Nota_equipo_resul_col14 = Nota_equipo_resul_col14.filter(Nota_equipo_resul_col14['avg(col14)'] == Nota_equipo_resul_10.at[0, 'avg(col14)'])\n",
        "Nota_equipo_resul_col14 = W.join(Nota_equipo_resul_col14, W['Equipo al que se va a evaluar']==Nota_equipo_resul_col14['Equipo al que se va a evaluar'], 'full')\\\n",
        "                          .select(W['Equipo al que se va a evaluar'],\n",
        "                                  Nota_equipo_resul_col14['avg(col14)'])\n",
        "#col15\n",
        "Nota_equipo_resul_col15 = Nota_equipo.select(['Equipo al que se va a evaluar', 'avg(col15)']).sort('avg(col15)', ascending=False)\n",
        "Nota_equipo_resul_col15 = Nota_equipo_resul_col15.filter(Nota_equipo_resul_col15['avg(col15)'] == Nota_equipo_resul_10.at[0, 'avg(col15)'])\n",
        "Nota_equipo_resul_col15 = W.join(Nota_equipo_resul_col15, W['Equipo al que se va a evaluar']==Nota_equipo_resul_col15['Equipo al que se va a evaluar'], 'full')\\\n",
        "                          .select(W['Equipo al que se va a evaluar'],\n",
        "                                  Nota_equipo_resul_col15['avg(col15)'])\n",
        "#col16\n",
        "Nota_equipo_resul_col16 = Nota_equipo.select(['Equipo al que se va a evaluar', 'avg(col16)']).sort('avg(col16)', ascending=False)\n",
        "Nota_equipo_resul_col16 = Nota_equipo_resul_col16.filter(Nota_equipo_resul_col16['avg(col16)'] == Nota_equipo_resul_10.at[0, 'avg(col16)'])\n",
        "Nota_equipo_resul_col16 = W.join(Nota_equipo_resul_col16, W['Equipo al que se va a evaluar']==Nota_equipo_resul_col16['Equipo al que se va a evaluar'], 'full')\\\n",
        "                          .select(W['Equipo al que se va a evaluar'],\n",
        "                                  Nota_equipo_resul_col16['avg(col16)'])\n",
        "\n",
        "#col17\n",
        "Nota_equipo_resul_col17 = Nota_equipo.select(['Equipo al que se va a evaluar', 'avg(col17)']).sort('avg(col17)', ascending=False)\n",
        "Nota_equipo_resul_col17 = Nota_equipo_resul_col17.filter(Nota_equipo_resul_col17['avg(col17)'] == Nota_equipo_resul_10.at[0, 'avg(col17)'])\n",
        "Nota_equipo_resul_col17 = W.join(Nota_equipo_resul_col17, W['Equipo al que se va a evaluar']==Nota_equipo_resul_col17['Equipo al que se va a evaluar'], 'full')\\\n",
        "                          .select(W['Equipo al que se va a evaluar'],\n",
        "                                  Nota_equipo_resul_col17['avg(col17)'])\n",
        "#col18\n",
        "Nota_equipo_resul_col18 = Nota_equipo.select(['Equipo al que se va a evaluar', 'avg(col18)']).sort('avg(col18)', ascending=False)\n",
        "Nota_equipo_resul_col18 = Nota_equipo_resul_col18.filter(Nota_equipo_resul_col18['avg(col18)'] == Nota_equipo_resul_10.at[0, 'avg(col18)'])\n",
        "Nota_equipo_resul_col18 = W.join(Nota_equipo_resul_col18, W['Equipo al que se va a evaluar']==Nota_equipo_resul_col18['Equipo al que se va a evaluar'], 'full')\\\n",
        "                          .select(W['Equipo al que se va a evaluar'],\n",
        "                                  Nota_equipo_resul_col18['avg(col18)'])\n",
        "#Nota_equipo_resul_col10.show()"
      ],
      "execution_count": null,
      "outputs": []
    },
    {
      "cell_type": "code",
      "metadata": {
        "jupyter": {
          "source_hidden": true
        },
        "id": "-kJWGCXZKcSD"
      },
      "source": [
        "J_4_5 = Nota_equipo_resul_col4.join(Nota_equipo_resul_col5, Nota_equipo_resul_col4['Equipo al que se va a evaluar']==Nota_equipo_resul_col5['Equipo al que se va a evaluar'], 'full')\\\n",
        "                        .select(Nota_equipo_resul_col4['Equipo al que se va a evaluar'],\n",
        "                                Nota_equipo_resul_col4['avg(col4)'],\n",
        "                                Nota_equipo_resul_col5['avg(col5)'])\n",
        "\n",
        "J_6_7 = Nota_equipo_resul_col6.join(Nota_equipo_resul_col7, Nota_equipo_resul_col6['Equipo al que se va a evaluar']==Nota_equipo_resul_col7['Equipo al que se va a evaluar'], 'full')\\\n",
        "                        .select(Nota_equipo_resul_col6['Equipo al que se va a evaluar'],\n",
        "                                Nota_equipo_resul_col6['avg(col6)'],\n",
        "                                Nota_equipo_resul_col7['avg(col7)'])\n",
        "\n",
        "J_8_9 = Nota_equipo_resul_col8.join(Nota_equipo_resul_col9, Nota_equipo_resul_col8['Equipo al que se va a evaluar']==Nota_equipo_resul_col9['Equipo al que se va a evaluar'], 'full')\\\n",
        "                        .select(Nota_equipo_resul_col8['Equipo al que se va a evaluar'],\n",
        "                                Nota_equipo_resul_col8['avg(col8)'],\n",
        "                                Nota_equipo_resul_col9['avg(col9)'])\n",
        "\n",
        "J_10_11 = Nota_equipo_resul_col10.join(Nota_equipo_resul_col11, Nota_equipo_resul_col10['Equipo al que se va a evaluar']==Nota_equipo_resul_col11['Equipo al que se va a evaluar'], 'full')\\\n",
        "                        .select(Nota_equipo_resul_col10['Equipo al que se va a evaluar'],\n",
        "                                Nota_equipo_resul_col10['avg(col10)'],\n",
        "                                Nota_equipo_resul_col11['avg(col11)'])\n",
        "\n",
        "J_12_13 = Nota_equipo_resul_col12.join(Nota_equipo_resul_col13, Nota_equipo_resul_col12['Equipo al que se va a evaluar']==Nota_equipo_resul_col13['Equipo al que se va a evaluar'], 'full')\\\n",
        "                        .select(Nota_equipo_resul_col12['Equipo al que se va a evaluar'],\n",
        "                                Nota_equipo_resul_col12['avg(col12)'],\n",
        "                                Nota_equipo_resul_col13['avg(col13)'])\n",
        "\n",
        "J_14_15 = Nota_equipo_resul_col14.join(Nota_equipo_resul_col15, Nota_equipo_resul_col14['Equipo al que se va a evaluar']==Nota_equipo_resul_col15['Equipo al que se va a evaluar'], 'full')\\\n",
        "                        .select(Nota_equipo_resul_col14['Equipo al que se va a evaluar'],\n",
        "                                Nota_equipo_resul_col14['avg(col14)'],\n",
        "                                Nota_equipo_resul_col15['avg(col15)'])\n",
        "\n",
        "J_16_17 = Nota_equipo_resul_col16.join(Nota_equipo_resul_col17, Nota_equipo_resul_col16['Equipo al que se va a evaluar']==Nota_equipo_resul_col17['Equipo al que se va a evaluar'], 'full')\\\n",
        "                        .select(Nota_equipo_resul_col16['Equipo al que se va a evaluar'],\n",
        "                                Nota_equipo_resul_col16['avg(col16)'],\n",
        "                                Nota_equipo_resul_col17['avg(col17)'])\n",
        "\n",
        "#J_10_11.show()\n"
      ],
      "execution_count": null,
      "outputs": []
    },
    {
      "cell_type": "code",
      "metadata": {
        "jupyter": {
          "source_hidden": true
        },
        "id": "kTzbSkMEKcSD"
      },
      "source": [
        "J_4_7 = J_4_5.join(J_6_7, J_4_5['Equipo al que se va a evaluar']==J_6_7['Equipo al que se va a evaluar'], 'full')\\\n",
        "                        .select(J_4_5['Equipo al que se va a evaluar'],\n",
        "                                J_4_5['avg(col4)'],\n",
        "                                J_4_5['avg(col5)'],\n",
        "                                J_6_7['avg(col6)'], \n",
        "                                J_6_7['avg(col7)'])\n",
        "\n",
        "J_8_11 = J_8_9.join(J_10_11, J_8_9['Equipo al que se va a evaluar']==J_10_11['Equipo al que se va a evaluar'], 'full')\\\n",
        "                        .select(J_8_9['Equipo al que se va a evaluar'],\n",
        "                                J_8_9['avg(col8)'],\n",
        "                                J_8_9['avg(col9)'],\n",
        "                                J_10_11['avg(col10)'], \n",
        "                                J_10_11['avg(col11)'])\n",
        "\n",
        "J_12_15 = J_12_13.join(J_14_15, J_14_15['Equipo al que se va a evaluar']==J_14_15['Equipo al que se va a evaluar'], 'full')\\\n",
        "                        .select(J_12_13['Equipo al que se va a evaluar'],\n",
        "                                J_12_13['avg(col12)'],\n",
        "                                J_12_13['avg(col13)'],\n",
        "                                J_14_15['avg(col14)'], \n",
        "                                J_14_15['avg(col15)'])\n",
        "\n",
        "J_16_18 = J_16_17.join(Nota_equipo_resul_col18, J_16_17['Equipo al que se va a evaluar']==Nota_equipo_resul_col18['Equipo al que se va a evaluar'], 'full')\\\n",
        "                        .select(J_16_17['Equipo al que se va a evaluar'],\n",
        "                                J_16_17['avg(col16)'],\n",
        "                                J_16_17['avg(col17)'],\n",
        "                                Nota_equipo_resul_col18['avg(col18)'])\n",
        "\n",
        "#J_16_18.show()"
      ],
      "execution_count": null,
      "outputs": []
    },
    {
      "cell_type": "code",
      "metadata": {
        "jupyter": {
          "source_hidden": true
        },
        "id": "S4_obftFKcSE"
      },
      "source": [
        "J_4_11 = J_4_7.join(J_8_11, J_4_7['Equipo al que se va a evaluar']==J_8_11['Equipo al que se va a evaluar'], 'full')\\\n",
        "                        .select(J_4_7['Equipo al que se va a evaluar'],\n",
        "                                J_4_7['avg(col4)'],\n",
        "                                J_4_7['avg(col5)'],\n",
        "                                J_4_7['avg(col6)'], \n",
        "                                J_4_7['avg(col7)'],\n",
        "                                J_8_11['avg(col8)'], \n",
        "                                J_8_11['avg(col9)'], \n",
        "                                J_8_11['avg(col10)'],\n",
        "                                J_8_11['avg(col11)'])\n",
        "\n",
        "J_12_18 = J_12_15.join(J_16_18, J_12_15['Equipo al que se va a evaluar']==J_16_18['Equipo al que se va a evaluar'], 'full')\\\n",
        "                        .select(J_12_15['Equipo al que se va a evaluar'],\n",
        "                                J_12_15['avg(col12)'],\n",
        "                                J_12_15['avg(col13)'],\n",
        "                                J_12_15['avg(col14)'], \n",
        "                                J_12_15['avg(col15)'],\n",
        "                                J_16_18['avg(col16)'], \n",
        "                                J_16_18['avg(col17)'], \n",
        "                                J_16_18['avg(col18)'])\n",
        "\n",
        "#J_12_18.show()"
      ],
      "execution_count": null,
      "outputs": []
    },
    {
      "cell_type": "code",
      "metadata": {
        "jupyter": {
          "source_hidden": true
        },
        "id": "6uavMYAFKcSE",
        "outputId": "f355f4f1-8ed3-474c-9576-a72c4fef042a"
      },
      "source": [
        "J_4_18 = J_4_11.join(J_12_18, J_4_11['Equipo al que se va a evaluar']==J_12_18['Equipo al que se va a evaluar'], 'full')\\\n",
        "                        .select(J_4_11['Equipo al que se va a evaluar'],\n",
        "                                J_4_11['avg(col4)'],\n",
        "                                J_4_11['avg(col5)'],\n",
        "                                J_4_11['avg(col6)'], \n",
        "                                J_4_11['avg(col7)'],\n",
        "                                J_4_11['avg(col8)'], \n",
        "                                J_4_11['avg(col9)'], \n",
        "                                J_4_11['avg(col10)'],\n",
        "                                J_4_11['avg(col11)'],\n",
        "                                J_12_18['avg(col12)'],\n",
        "                                J_12_18['avg(col13)'],\n",
        "                                J_12_18['avg(col14)'], \n",
        "                                J_12_18['avg(col15)'],\n",
        "                                J_12_18['avg(col16)'], \n",
        "                                J_12_18['avg(col17)'], \n",
        "                                J_12_18['avg(col18)'])\n",
        "J_4_18.show()"
      ],
      "execution_count": null,
      "outputs": [
        {
          "output_type": "stream",
          "text": [
            "+-----------------------------+---------+---------+---------+---------+---------+---------+----------+----------+----------+----------+----------+----------+----------+----------+----------+\n",
            "|Equipo al que se va a evaluar|avg(col4)|avg(col5)|avg(col6)|avg(col7)|avg(col8)|avg(col9)|avg(col10)|avg(col11)|avg(col12)|avg(col13)|avg(col14)|avg(col15)|avg(col16)|avg(col17)|avg(col18)|\n",
            "+-----------------------------+---------+---------+---------+---------+---------+---------+----------+----------+----------+----------+----------+----------+----------+----------+----------+\n",
            "|         Servicios a domic...|      4.5|     null|     null|     null|      4.5|     null|      null|      null|      null|      null|      null|      null|      null|       4.6|      null|\n",
            "|         Lo tengo y te lo ...|      4.5|     null|     null|     null|     null|     null|      null|      null|      null|      null|      null|      null|      null|       4.6|      null|\n",
            "|         Gestión de Reside...|      4.5|     null|     null|     null|      4.5|     null|      null|       4.7|      null|      null|      null|      null|      null|      null|      null|\n",
            "|                Te lo cambio.|     null|     null|     null|     null|      4.5|     null|      null|      null|      null|      null|      null|      null|       4.6|      null|      null|\n",
            "|         Administración de...|     null|     null|     null|     null|     null|     null|      null|      null|      null|      null|      null|      null|      null|      null|      null|\n",
            "|         Deserción de estu...|      4.5|      5.0|      5.0|      5.0|      4.5|      5.0|       5.0|      null|       5.0|      null|       4.5|       5.0|      null|      null|       5.0|\n",
            "|         Gestión de Menús ...|     null|     null|     null|     null|     null|     null|      null|      null|      null|       4.6|      null|      null|      null|      null|      null|\n",
            "|         Gestión de progra...|     null|     null|     null|     null|     null|     null|      null|      null|      null|      null|       4.5|      null|      null|      null|      null|\n",
            "|              Mi Sanandresito|     null|     null|     null|     null|     null|     null|      null|      null|      null|      null|      null|      null|      null|      null|      null|\n",
            "+-----------------------------+---------+---------+---------+---------+---------+---------+----------+----------+----------+----------+----------+----------+----------+----------+----------+\n",
            "\n"
          ],
          "name": "stdout"
        }
      ]
    },
    {
      "cell_type": "code",
      "metadata": {
        "jupyter": {
          "source_hidden": true
        },
        "id": "xqhwx0CcKcSE",
        "outputId": "462a5fe1-cb3b-4bbb-b8f3-0dda0032953d"
      },
      "source": [
        "#Nota_equipo_resul.show()\n",
        "Nota_equipo_resul.filter(Nota_equipo_resul['Nota_promedio_total']==4.8).show()"
      ],
      "execution_count": null,
      "outputs": [
        {
          "output_type": "stream",
          "text": [
            "+-----------------------------+-------------------+\n",
            "|Equipo al que se va a evaluar|Nota_promedio_total|\n",
            "+-----------------------------+-------------------+\n",
            "|         Deserción de estu...|                4.8|\n",
            "+-----------------------------+-------------------+\n",
            "\n"
          ],
          "name": "stdout"
        }
      ]
    },
    {
      "cell_type": "markdown",
      "metadata": {
        "id": "IdUAXORPKcSF"
      },
      "source": [
        "# 11. Consulte el peor equipo evaluado por cada ítem (según nota promedio. En caso de empate mostrar todos los empatados) \n",
        "# y el peor equipo según el promedio total.\n",
        "# Tu código a continuación..."
      ]
    },
    {
      "cell_type": "code",
      "metadata": {
        "jupyter": {
          "source_hidden": true
        },
        "id": "YGztJwGzKcSF"
      },
      "source": [
        "Nota_equipo_resul_10 = Nota_equipo.agg(F.min('avg(col4)').alias('avg(col4)'), F.min('avg(col5)').alias('avg(col5)'), F.min('avg(col6)').alias('avg(col6)'), F.min('avg(col7)').alias('avg(col7)'), F.min('avg(col8)').alias('avg(col8)'),\n",
        "                                       F.min('avg(col9)').alias('avg(col9)'), F.min('avg(col10)').alias('avg(col10)'), F.min('avg(col11)').alias('avg(col11)'), F.min('avg(col12)').alias('avg(col12)'), F.min('avg(col13)').alias('avg(col13)'),\n",
        "                                       F.min('avg(col14)').alias('avg(col14)'), F.min('avg(col15)').alias('avg(col15)'), F.min('avg(col16)').alias('avg(col16)'), F.min('avg(col17)').alias('avg(col17)'), F.min('avg(col18)').alias('avg(col18)'))#Nota_equipo_resul_10.show()\n",
        "Nota_equipo_resul_10 = Nota_equipo_resul_10.toPandas()\n",
        "#Nota_equipo_resul_10"
      ],
      "execution_count": null,
      "outputs": []
    },
    {
      "cell_type": "code",
      "metadata": {
        "jupyter": {
          "source_hidden": true
        },
        "id": "ud3huJ8RKcSF"
      },
      "source": [
        "W = Nota_equipo_resul.select(Nota_equipo_resul['Equipo al que se va a evaluar'])\n",
        "#W.show()"
      ],
      "execution_count": null,
      "outputs": []
    },
    {
      "cell_type": "code",
      "metadata": {
        "jupyter": {
          "source_hidden": true
        },
        "id": "VmdOR2kQKcSI"
      },
      "source": [
        "#col4\n",
        "Nota_equipo_resul_col4 = Nota_equipo.select(['Equipo al que se va a evaluar', 'avg(col4)']).sort('avg(col4)', ascending=False)\n",
        "Nota_equipo_resul_col4 = Nota_equipo_resul_col4.filter(Nota_equipo_resul_col4['avg(col4)'] == Nota_equipo_resul_10.at[0, 'avg(col4)'])\n",
        "Nota_equipo_resul_col4 = W.join(Nota_equipo_resul_col4, W['Equipo al que se va a evaluar']==Nota_equipo_resul_col4['Equipo al que se va a evaluar'], 'full')\\\n",
        "                          .select(W['Equipo al que se va a evaluar'],\n",
        "                                  Nota_equipo_resul_col4['avg(col4)'])\n",
        "#col5\n",
        "Nota_equipo_resul_col5 = Nota_equipo.select(['Equipo al que se va a evaluar', 'avg(col5)']).sort('avg(col5)', ascending=False)\n",
        "Nota_equipo_resul_col5 = Nota_equipo_resul_col5.filter(Nota_equipo_resul_col5['avg(col5)'] == Nota_equipo_resul_10.at[0, 'avg(col5)'])\n",
        "Nota_equipo_resul_col5 = W.join(Nota_equipo_resul_col5, W['Equipo al que se va a evaluar']==Nota_equipo_resul_col5['Equipo al que se va a evaluar'], 'full')\\\n",
        "                          .select(W['Equipo al que se va a evaluar'],\n",
        "                                  Nota_equipo_resul_col5['avg(col5)'])\n",
        "#col6\n",
        "Nota_equipo_resul_col6 = Nota_equipo.select(['Equipo al que se va a evaluar', 'avg(col6)']).sort('avg(col6)', ascending=False)\n",
        "Nota_equipo_resul_col6 = Nota_equipo_resul_col6.filter(Nota_equipo_resul_col6['avg(col6)'] == Nota_equipo_resul_10.at[0, 'avg(col6)'])\n",
        "Nota_equipo_resul_col6 = W.join(Nota_equipo_resul_col6, W['Equipo al que se va a evaluar']==Nota_equipo_resul_col6['Equipo al que se va a evaluar'], 'full')\\\n",
        "                          .select(W['Equipo al que se va a evaluar'],\n",
        "                                  Nota_equipo_resul_col6['avg(col6)'])\n",
        "#col7\n",
        "Nota_equipo_resul_col7 = Nota_equipo.select(['Equipo al que se va a evaluar', 'avg(col7)']).sort('avg(col7)', ascending=False)\n",
        "Nota_equipo_resul_col7 = Nota_equipo_resul_col7.filter(Nota_equipo_resul_col7['avg(col7)'] == Nota_equipo_resul_10.at[0, 'avg(col7)'])\n",
        "Nota_equipo_resul_col7 = W.join(Nota_equipo_resul_col7, W['Equipo al que se va a evaluar']==Nota_equipo_resul_col7['Equipo al que se va a evaluar'], 'full')\\\n",
        "                          .select(W['Equipo al que se va a evaluar'],\n",
        "                                  Nota_equipo_resul_col7['avg(col7)'])\n",
        "#col8\n",
        "Nota_equipo_resul_col8 = Nota_equipo.select(['Equipo al que se va a evaluar', 'avg(col8)']).sort('avg(col8)', ascending=False)\n",
        "Nota_equipo_resul_col8 = Nota_equipo_resul_col8.filter(Nota_equipo_resul_col8['avg(col8)'] == Nota_equipo_resul_10.at[0, 'avg(col8)'])\n",
        "Nota_equipo_resul_col8 = W.join(Nota_equipo_resul_col8, W['Equipo al que se va a evaluar']==Nota_equipo_resul_col8['Equipo al que se va a evaluar'], 'full')\\\n",
        "                          .select(W['Equipo al que se va a evaluar'],\n",
        "                                  Nota_equipo_resul_col8['avg(col8)'])\n",
        "#col9\n",
        "Nota_equipo_resul_col9 = Nota_equipo.select(['Equipo al que se va a evaluar', 'avg(col9)']).sort('avg(col9)', ascending=False)\n",
        "Nota_equipo_resul_col9 = Nota_equipo_resul_col9.filter(Nota_equipo_resul_col9['avg(col9)'] == Nota_equipo_resul_10.at[0, 'avg(col9)'])\n",
        "Nota_equipo_resul_col9 = W.join(Nota_equipo_resul_col9, W['Equipo al que se va a evaluar']==Nota_equipo_resul_col9['Equipo al que se va a evaluar'], 'full')\\\n",
        "                          .select(W['Equipo al que se va a evaluar'],\n",
        "                                  Nota_equipo_resul_col9['avg(col9)'])\n",
        "#col10\n",
        "Nota_equipo_resul_col10 = Nota_equipo.select(['Equipo al que se va a evaluar', 'avg(col10)']).sort('avg(col10)', ascending=False)\n",
        "Nota_equipo_resul_col10 = Nota_equipo_resul_col10.filter(Nota_equipo_resul_col10['avg(col10)'] == Nota_equipo_resul_10.at[0, 'avg(col10)'])\n",
        "Nota_equipo_resul_col10 = W.join(Nota_equipo_resul_col10, W['Equipo al que se va a evaluar']==Nota_equipo_resul_col10['Equipo al que se va a evaluar'], 'full')\\\n",
        "                          .select(W['Equipo al que se va a evaluar'],\n",
        "                                  Nota_equipo_resul_col10['avg(col10)'])\n",
        "#col11\n",
        "Nota_equipo_resul_col11 = Nota_equipo.select(['Equipo al que se va a evaluar', 'avg(col11)']).sort('avg(col11)', ascending=False)\n",
        "Nota_equipo_resul_col11 = Nota_equipo_resul_col11.filter(Nota_equipo_resul_col11['avg(col11)'] == Nota_equipo_resul_10.at[0, 'avg(col11)'])\n",
        "Nota_equipo_resul_col11 = W.join(Nota_equipo_resul_col11, W['Equipo al que se va a evaluar']==Nota_equipo_resul_col11['Equipo al que se va a evaluar'], 'full')\\\n",
        "                          .select(W['Equipo al que se va a evaluar'],\n",
        "                                  Nota_equipo_resul_col11['avg(col11)'])\n",
        "#col12\n",
        "Nota_equipo_resul_col12 = Nota_equipo.select(['Equipo al que se va a evaluar', 'avg(col12)']).sort('avg(col12)', ascending=False)\n",
        "Nota_equipo_resul_col12 = Nota_equipo_resul_col12.filter(Nota_equipo_resul_col12['avg(col12)'] == Nota_equipo_resul_10.at[0, 'avg(col12)'])\n",
        "Nota_equipo_resul_col12 = W.join(Nota_equipo_resul_col12, W['Equipo al que se va a evaluar']==Nota_equipo_resul_col12['Equipo al que se va a evaluar'], 'full')\\\n",
        "                          .select(W['Equipo al que se va a evaluar'],\n",
        "                                  Nota_equipo_resul_col12['avg(col12)'])\n",
        "#col13\n",
        "Nota_equipo_resul_col13 = Nota_equipo.select(['Equipo al que se va a evaluar', 'avg(col13)']).sort('avg(col13)', ascending=False)\n",
        "Nota_equipo_resul_col13 = Nota_equipo_resul_col13.filter(Nota_equipo_resul_col13['avg(col13)'] == Nota_equipo_resul_10.at[0, 'avg(col13)'])\n",
        "Nota_equipo_resul_col13 = W.join(Nota_equipo_resul_col13, W['Equipo al que se va a evaluar']==Nota_equipo_resul_col13['Equipo al que se va a evaluar'], 'full')\\\n",
        "                          .select(W['Equipo al que se va a evaluar'],\n",
        "                                  Nota_equipo_resul_col13['avg(col13)'])\n",
        "#col14\n",
        "Nota_equipo_resul_col14 = Nota_equipo.select(['Equipo al que se va a evaluar', 'avg(col14)']).sort('avg(col14)', ascending=False)\n",
        "Nota_equipo_resul_col14 = Nota_equipo_resul_col14.filter(Nota_equipo_resul_col14['avg(col14)'] == Nota_equipo_resul_10.at[0, 'avg(col14)'])\n",
        "Nota_equipo_resul_col14 = W.join(Nota_equipo_resul_col14, W['Equipo al que se va a evaluar']==Nota_equipo_resul_col14['Equipo al que se va a evaluar'], 'full')\\\n",
        "                          .select(W['Equipo al que se va a evaluar'],\n",
        "                                  Nota_equipo_resul_col14['avg(col14)'])\n",
        "#col15\n",
        "Nota_equipo_resul_col15 = Nota_equipo.select(['Equipo al que se va a evaluar', 'avg(col15)']).sort('avg(col15)', ascending=False)\n",
        "Nota_equipo_resul_col15 = Nota_equipo_resul_col15.filter(Nota_equipo_resul_col15['avg(col15)'] == Nota_equipo_resul_10.at[0, 'avg(col15)'])\n",
        "Nota_equipo_resul_col15 = W.join(Nota_equipo_resul_col15, W['Equipo al que se va a evaluar']==Nota_equipo_resul_col15['Equipo al que se va a evaluar'], 'full')\\\n",
        "                          .select(W['Equipo al que se va a evaluar'],\n",
        "                                  Nota_equipo_resul_col15['avg(col15)'])\n",
        "#col16\n",
        "Nota_equipo_resul_col16 = Nota_equipo.select(['Equipo al que se va a evaluar', 'avg(col16)']).sort('avg(col16)', ascending=False)\n",
        "Nota_equipo_resul_col16 = Nota_equipo_resul_col16.filter(Nota_equipo_resul_col16['avg(col16)'] == Nota_equipo_resul_10.at[0, 'avg(col16)'])\n",
        "Nota_equipo_resul_col16 = W.join(Nota_equipo_resul_col16, W['Equipo al que se va a evaluar']==Nota_equipo_resul_col16['Equipo al que se va a evaluar'], 'full')\\\n",
        "                          .select(W['Equipo al que se va a evaluar'],\n",
        "                                  Nota_equipo_resul_col16['avg(col16)'])\n",
        "\n",
        "#col17\n",
        "Nota_equipo_resul_col17 = Nota_equipo.select(['Equipo al que se va a evaluar', 'avg(col17)']).sort('avg(col17)', ascending=False)\n",
        "Nota_equipo_resul_col17 = Nota_equipo_resul_col17.filter(Nota_equipo_resul_col17['avg(col17)'] == Nota_equipo_resul_10.at[0, 'avg(col17)'])\n",
        "Nota_equipo_resul_col17 = W.join(Nota_equipo_resul_col17, W['Equipo al que se va a evaluar']==Nota_equipo_resul_col17['Equipo al que se va a evaluar'], 'full')\\\n",
        "                          .select(W['Equipo al que se va a evaluar'],\n",
        "                                  Nota_equipo_resul_col17['avg(col17)'])\n",
        "#col18\n",
        "Nota_equipo_resul_col18 = Nota_equipo.select(['Equipo al que se va a evaluar', 'avg(col18)']).sort('avg(col18)', ascending=False)\n",
        "Nota_equipo_resul_col18 = Nota_equipo_resul_col18.filter(Nota_equipo_resul_col18['avg(col18)'] == Nota_equipo_resul_10.at[0, 'avg(col18)'])\n",
        "Nota_equipo_resul_col18 = W.join(Nota_equipo_resul_col18, W['Equipo al que se va a evaluar']==Nota_equipo_resul_col18['Equipo al que se va a evaluar'], 'full')\\\n",
        "                          .select(W['Equipo al que se va a evaluar'],\n",
        "                                  Nota_equipo_resul_col18['avg(col18)'])\n",
        "#Nota_equipo_resul_col10.show()"
      ],
      "execution_count": null,
      "outputs": []
    },
    {
      "cell_type": "code",
      "metadata": {
        "jupyter": {
          "source_hidden": true
        },
        "id": "AFIqCJsZKcSJ"
      },
      "source": [
        "J_4_5 = Nota_equipo_resul_col4.join(Nota_equipo_resul_col5, Nota_equipo_resul_col4['Equipo al que se va a evaluar']==Nota_equipo_resul_col5['Equipo al que se va a evaluar'], 'full')\\\n",
        "                        .select(Nota_equipo_resul_col4['Equipo al que se va a evaluar'],\n",
        "                                Nota_equipo_resul_col4['avg(col4)'],\n",
        "                                Nota_equipo_resul_col5['avg(col5)'])\n",
        "\n",
        "J_6_7 = Nota_equipo_resul_col6.join(Nota_equipo_resul_col7, Nota_equipo_resul_col6['Equipo al que se va a evaluar']==Nota_equipo_resul_col7['Equipo al que se va a evaluar'], 'full')\\\n",
        "                        .select(Nota_equipo_resul_col6['Equipo al que se va a evaluar'],\n",
        "                                Nota_equipo_resul_col6['avg(col6)'],\n",
        "                                Nota_equipo_resul_col7['avg(col7)'])\n",
        "\n",
        "J_8_9 = Nota_equipo_resul_col8.join(Nota_equipo_resul_col9, Nota_equipo_resul_col8['Equipo al que se va a evaluar']==Nota_equipo_resul_col9['Equipo al que se va a evaluar'], 'full')\\\n",
        "                        .select(Nota_equipo_resul_col8['Equipo al que se va a evaluar'],\n",
        "                                Nota_equipo_resul_col8['avg(col8)'],\n",
        "                                Nota_equipo_resul_col9['avg(col9)'])\n",
        "\n",
        "J_10_11 = Nota_equipo_resul_col10.join(Nota_equipo_resul_col11, Nota_equipo_resul_col10['Equipo al que se va a evaluar']==Nota_equipo_resul_col11['Equipo al que se va a evaluar'], 'full')\\\n",
        "                        .select(Nota_equipo_resul_col10['Equipo al que se va a evaluar'],\n",
        "                                Nota_equipo_resul_col10['avg(col10)'],\n",
        "                                Nota_equipo_resul_col11['avg(col11)'])\n",
        "\n",
        "J_12_13 = Nota_equipo_resul_col12.join(Nota_equipo_resul_col13, Nota_equipo_resul_col12['Equipo al que se va a evaluar']==Nota_equipo_resul_col13['Equipo al que se va a evaluar'], 'full')\\\n",
        "                        .select(Nota_equipo_resul_col12['Equipo al que se va a evaluar'],\n",
        "                                Nota_equipo_resul_col12['avg(col12)'],\n",
        "                                Nota_equipo_resul_col13['avg(col13)'])\n",
        "\n",
        "J_14_15 = Nota_equipo_resul_col14.join(Nota_equipo_resul_col15, Nota_equipo_resul_col14['Equipo al que se va a evaluar']==Nota_equipo_resul_col15['Equipo al que se va a evaluar'], 'full')\\\n",
        "                        .select(Nota_equipo_resul_col14['Equipo al que se va a evaluar'],\n",
        "                                Nota_equipo_resul_col14['avg(col14)'],\n",
        "                                Nota_equipo_resul_col15['avg(col15)'])\n",
        "\n",
        "J_16_17 = Nota_equipo_resul_col16.join(Nota_equipo_resul_col17, Nota_equipo_resul_col16['Equipo al que se va a evaluar']==Nota_equipo_resul_col17['Equipo al que se va a evaluar'], 'full')\\\n",
        "                        .select(Nota_equipo_resul_col16['Equipo al que se va a evaluar'],\n",
        "                                Nota_equipo_resul_col16['avg(col16)'],\n",
        "                                Nota_equipo_resul_col17['avg(col17)'])\n",
        "\n",
        "#J_10_11.show()\n"
      ],
      "execution_count": null,
      "outputs": []
    },
    {
      "cell_type": "code",
      "metadata": {
        "jupyter": {
          "source_hidden": true
        },
        "id": "6PLmWNOtKcSK"
      },
      "source": [
        "J_4_7 = J_4_5.join(J_6_7, J_4_5['Equipo al que se va a evaluar']==J_6_7['Equipo al que se va a evaluar'], 'full')\\\n",
        "                        .select(J_4_5['Equipo al que se va a evaluar'],\n",
        "                                J_4_5['avg(col4)'],\n",
        "                                J_4_5['avg(col5)'],\n",
        "                                J_6_7['avg(col6)'], \n",
        "                                J_6_7['avg(col7)'])\n",
        "\n",
        "J_8_11 = J_8_9.join(J_10_11, J_8_9['Equipo al que se va a evaluar']==J_10_11['Equipo al que se va a evaluar'], 'full')\\\n",
        "                        .select(J_8_9['Equipo al que se va a evaluar'],\n",
        "                                J_8_9['avg(col8)'],\n",
        "                                J_8_9['avg(col9)'],\n",
        "                                J_10_11['avg(col10)'], \n",
        "                                J_10_11['avg(col11)'])\n",
        "\n",
        "J_12_15 = J_12_13.join(J_14_15, J_14_15['Equipo al que se va a evaluar']==J_14_15['Equipo al que se va a evaluar'], 'full')\\\n",
        "                        .select(J_12_13['Equipo al que se va a evaluar'],\n",
        "                                J_12_13['avg(col12)'],\n",
        "                                J_12_13['avg(col13)'],\n",
        "                                J_14_15['avg(col14)'], \n",
        "                                J_14_15['avg(col15)'])\n",
        "\n",
        "J_16_18 = J_16_17.join(Nota_equipo_resul_col18, J_16_17['Equipo al que se va a evaluar']==Nota_equipo_resul_col18['Equipo al que se va a evaluar'], 'full')\\\n",
        "                        .select(J_16_17['Equipo al que se va a evaluar'],\n",
        "                                J_16_17['avg(col16)'],\n",
        "                                J_16_17['avg(col17)'],\n",
        "                                Nota_equipo_resul_col18['avg(col18)'])\n",
        "\n",
        "#J_16_18.show()"
      ],
      "execution_count": null,
      "outputs": []
    },
    {
      "cell_type": "code",
      "metadata": {
        "jupyter": {
          "source_hidden": true
        },
        "id": "DXnqxzxtKcSK"
      },
      "source": [
        "J_4_11 = J_4_7.join(J_8_11, J_4_7['Equipo al que se va a evaluar']==J_8_11['Equipo al que se va a evaluar'], 'full')\\\n",
        "                        .select(J_4_7['Equipo al que se va a evaluar'],\n",
        "                                J_4_7['avg(col4)'],\n",
        "                                J_4_7['avg(col5)'],\n",
        "                                J_4_7['avg(col6)'], \n",
        "                                J_4_7['avg(col7)'],\n",
        "                                J_8_11['avg(col8)'], \n",
        "                                J_8_11['avg(col9)'], \n",
        "                                J_8_11['avg(col10)'],\n",
        "                                J_8_11['avg(col11)'])\n",
        "\n",
        "J_12_18 = J_12_15.join(J_16_18, J_12_15['Equipo al que se va a evaluar']==J_16_18['Equipo al que se va a evaluar'], 'full')\\\n",
        "                        .select(J_12_15['Equipo al que se va a evaluar'],\n",
        "                                J_12_15['avg(col12)'],\n",
        "                                J_12_15['avg(col13)'],\n",
        "                                J_12_15['avg(col14)'], \n",
        "                                J_12_15['avg(col15)'],\n",
        "                                J_16_18['avg(col16)'], \n",
        "                                J_16_18['avg(col17)'], \n",
        "                                J_16_18['avg(col18)'])\n",
        "\n",
        "#J_12_18.show()"
      ],
      "execution_count": null,
      "outputs": []
    },
    {
      "cell_type": "code",
      "metadata": {
        "jupyter": {
          "source_hidden": true
        },
        "id": "dCXOWFnQKcSK",
        "outputId": "292e6c32-e971-49b1-e122-ee38768e7689"
      },
      "source": [
        "J_4_18_N = J_4_11.join(J_12_18, J_4_11['Equipo al que se va a evaluar']==J_12_18['Equipo al que se va a evaluar'], 'full')\\\n",
        "                        .select(J_4_11['Equipo al que se va a evaluar'],\n",
        "                                J_4_11['avg(col4)'],\n",
        "                                J_4_11['avg(col5)'],\n",
        "                                J_4_11['avg(col6)'], \n",
        "                                J_4_11['avg(col7)'],\n",
        "                                J_4_11['avg(col8)'], \n",
        "                                J_4_11['avg(col9)'], \n",
        "                                J_4_11['avg(col10)'],\n",
        "                                J_4_11['avg(col11)'],\n",
        "                                J_12_18['avg(col12)'],\n",
        "                                J_12_18['avg(col13)'],\n",
        "                                J_12_18['avg(col14)'], \n",
        "                                J_12_18['avg(col15)'],\n",
        "                                J_12_18['avg(col16)'], \n",
        "                                J_12_18['avg(col17)'], \n",
        "                                J_12_18['avg(col18)'])\n",
        "J_4_18_N.show()"
      ],
      "execution_count": null,
      "outputs": [
        {
          "output_type": "stream",
          "text": [
            "+-----------------------------+---------+---------+---------+---------+---------+---------+----------+----------+----------+----------+----------+----------+----------+----------+----------+\n",
            "|Equipo al que se va a evaluar|avg(col4)|avg(col5)|avg(col6)|avg(col7)|avg(col8)|avg(col9)|avg(col10)|avg(col11)|avg(col12)|avg(col13)|avg(col14)|avg(col15)|avg(col16)|avg(col17)|avg(col18)|\n",
            "+-----------------------------+---------+---------+---------+---------+---------+---------+----------+----------+----------+----------+----------+----------+----------+----------+----------+\n",
            "|         Servicios a domic...|     null|     null|     null|     null|     null|     null|      null|       4.1|      null|       4.3|      null|      null|      null|      null|      null|\n",
            "|         Lo tengo y te lo ...|     null|     null|     null|     null|     null|     null|      null|      null|      null|      null|      null|      null|      null|      null|      null|\n",
            "|         Gestión de Reside...|     null|     null|     null|     null|     null|     null|      null|      null|      null|      null|      null|      null|      null|      null|      null|\n",
            "|                Te lo cambio.|     null|     null|     null|     null|     null|     null|      null|       4.1|      null|       4.3|       3.6|      null|      null|      null|      null|\n",
            "|         Administración de...|      4.1|     null|      4.0|      3.9|      4.2|     null|       4.0|      null|      null|      null|      null|       4.2|       4.3|       4.2|       4.1|\n",
            "|         Deserción de estu...|     null|     null|     null|     null|     null|     null|      null|      null|      null|      null|      null|      null|      null|      null|      null|\n",
            "|         Gestión de Menús ...|     null|     null|     null|     null|     null|      4.0|      null|      null|      null|      null|      null|      null|      null|      null|      null|\n",
            "|         Gestión de progra...|     null|     null|     null|      3.9|     null|     null|      null|      null|      null|       4.3|      null|      null|      null|      null|      null|\n",
            "|              Mi Sanandresito|     null|      3.9|     null|     null|     null|     null|      null|      null|       3.5|      null|      null|      null|       4.3|       4.2|       4.1|\n",
            "+-----------------------------+---------+---------+---------+---------+---------+---------+----------+----------+----------+----------+----------+----------+----------+----------+----------+\n",
            "\n"
          ],
          "name": "stdout"
        }
      ]
    },
    {
      "cell_type": "code",
      "metadata": {
        "jupyter": {
          "source_hidden": true
        },
        "id": "NBnMw-HNKcSL",
        "outputId": "c3d78c7b-4778-41a7-f650-f47b295447eb"
      },
      "source": [
        "#Nota_equipo_resul.sort('Nota_promedio_total', ascending=True).show()\n",
        "Nota_equipo_resul.filter(Nota_equipo_resul['Nota_promedio_total']==4.2).show()"
      ],
      "execution_count": null,
      "outputs": [
        {
          "output_type": "stream",
          "text": [
            "+-----------------------------+-------------------+\n",
            "|Equipo al que se va a evaluar|Nota_promedio_total|\n",
            "+-----------------------------+-------------------+\n",
            "|         Administración de...|                4.2|\n",
            "|              Mi Sanandresito|                4.2|\n",
            "+-----------------------------+-------------------+\n",
            "\n"
          ],
          "name": "stdout"
        }
      ]
    },
    {
      "cell_type": "markdown",
      "metadata": {
        "id": "7BgJMYcMKcSL"
      },
      "source": [
        "# 12. Consulte la lista de estudiantes con la correspondiente nota obtenida en la presentación \n",
        "# (nota promedio total de la evaluación obtenida por el equipo)\n",
        "# Tu código a continuación..."
      ]
    },
    {
      "cell_type": "code",
      "metadata": {
        "jupyter": {
          "source_hidden": true
        },
        "id": "Bv2jMFe0KcSL",
        "outputId": "1ba32041-4731-40d4-b46f-15f48f9a84c6"
      },
      "source": [
        "#Para llevar a cabo esta consulta basta con hacer un Join entre la tabla Estudiantes_por_equipo y Nota_equipo_resul\n",
        "Nota_Total_estudiante = Estudiantes_por_equipo.join(Nota_equipo_resul, Estudiantes_por_equipo['Equipo al que perteneces:']==Nota_equipo_resul['Equipo al que se va a evaluar'], 'inner')\\\n",
        "                             .select(Estudiantes_por_equipo['Nombre de usuario'], \n",
        "                                    Nota_equipo_resul['Nota_promedio_total']).sort('Nombre de usuario')\n",
        "Nota_Total_estudiante.show()"
      ],
      "execution_count": null,
      "outputs": [
        {
          "output_type": "stream",
          "text": [
            "+--------------------+-------------------+\n",
            "|   Nombre de usuario|Nota_promedio_total|\n",
            "+--------------------+-------------------+\n",
            "| abanolc@unal.edu.co|                4.4|\n",
            "|acastrillonv@unal...|                4.4|\n",
            "| aflemag@unal.edu.co|                4.2|\n",
            "|anapariciom@unal....|                4.4|\n",
            "|angutierrezb@unal...|                4.2|\n",
            "|anoriega@unal.edu.co|                4.3|\n",
            "|auarbelaeza@unal....|                4.5|\n",
            "| bocampo@unal.edu.co|                4.4|\n",
            "|cgiraldo@unal.edu.co|                4.5|\n",
            "|cjfunezg@unal.edu.co|                4.4|\n",
            "|cquinchiar@unal.e...|                4.5|\n",
            "| dadazam@unal.edu.co|                4.2|\n",
            "|daestradam@unal.e...|                4.5|\n",
            "|davgarciava@unal....|                4.4|\n",
            "|dballesteroso@una...|                4.3|\n",
            "|  dbrito@unal.edu.co|                4.5|\n",
            "|dcadavid@unal.edu.co|                4.2|\n",
            "|dcardonaal@unal.e...|                4.5|\n",
            "|dchavarriar@unal....|                4.4|\n",
            "|dgarciabl@unal.ed...|                4.5|\n",
            "+--------------------+-------------------+\n",
            "only showing top 20 rows\n",
            "\n"
          ],
          "name": "stdout"
        }
      ]
    }
  ]
}